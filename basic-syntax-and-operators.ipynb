{
  "cells": [
    {
      "cell_type": "markdown",
      "id": "111e3382",
      "metadata": {
        "id": "111e3382"
      },
      "source": [
        "\n",
        "# Introduction to Programming with Python: Basic Syntax and Operators\n",
        "\n",
        "**Author:** Alp Tezbasaran\n",
        "\n",
        "**Credit:** Selene R. Schmittling  \n",
        "\n",
        "**Date:** 2025-09-01\n"
      ]
    },
    {
      "cell_type": "markdown",
      "id": "cae4e7f3",
      "metadata": {
        "id": "cae4e7f3",
        "jp-MarkdownHeadingCollapsed": true,
        "tags": [
          "accessibility",
          "instructor-note"
        ]
      },
      "source": [
        "## 0. Accessibility: Theme & Text Size\n",
        "\n",
        "A few quick adjustments improve readability during live teaching.\n",
        "\n",
        "### Theme (Light/Dark)\n",
        "- **Tools → Settings → Theme** (or **Appearance**) → choose **Light**, **Dark**, or **System default**.\n",
        "\n",
        "### Editor font size\n",
        "- **Tools → Settings → Editor → Font size** (increase/decrease to your preference).\n",
        "- You can also toggle options like **Line numbers** and **Wrap lines** for readability.\n",
        "\n",
        "#### Page zoom (everything bigger/smaller)\n",
        "- Use your browser zoom: **Ctrl/Cmd + ‘+’** (bigger), **Ctrl/Cmd + ‘−’** (smaller), **Ctrl/Cmd + 0** (reset).\n",
        "\n",
        "#### Output readability\n",
        "- In **Settings → Editor**, consider toggling **Use monospace font for output** to make tables/text line up.\n",
        "- For high‑contrast needs, consider your OS/browser **high‑contrast** or **inverted colors** settings.\n",
        "\n",
        "> **Teaching tip:** Agree on a standard zoom and theme at the start so screenshots and student views match what you present.\n"
      ]
    },
    {
      "cell_type": "markdown",
      "id": "33b9c8d5",
      "metadata": {
        "id": "33b9c8d5"
      },
      "source": [
        "\n",
        "## Learning Outcomes\n",
        "\n",
        "In this session, we will cover these introductory aspects of **Python** & **Jupyter**:\n",
        "\n",
        "- Python vs. Jupyter / JupyterLab / Colab\n",
        "- Jupyter environment and basic workflow\n",
        "- Notebooks vs. scripts\n",
        "- Variables & data types\n",
        "- Data structures (lists, NumPy arrays, pandas DataFrames)\n",
        "- Operators (arithmetic, relational, logical)\n",
        "\n",
        "By the end of this session, you will understand:\n",
        "\n",
        "1. The difference between Python and Jupyter/Colab\n",
        "2. The default layout/workflow of Jupyter notebooks\n",
        "3. What a variable is and how to declare one\n",
        "5. Basic data types available in Python\n",
        "6. Basic data structures and how to access elements\n",
        "7. What an operator is and common ones in Python\n"
      ]
    },
    {
      "cell_type": "markdown",
      "id": "8b535f9b",
      "metadata": {
        "id": "8b535f9b",
        "tags": [
          "colab-ai",
          "instructor-note"
        ]
      },
      "source": [
        "## AI Help in Google Colab\n",
        "Google Colab includes **Colab AI** features (e.g., *Help me code*, *Explain code*, and chat). Availability can vary by account/org.\n",
        "\n",
        "### Enable / Disable\n",
        "- **Enable:** Go to **Tools → Colab AI → Turn on** *(or)* **Settings (gear) → Colab AI → Enable**.  \n",
        "- **Disable:** **Tools → Colab AI → Turn off** *(or)* **Settings → Colab AI → Disable**.  \n",
        "- If you don’t see Colab AI, your workspace or region may not have it enabled.\n",
        "\n",
        "### Ways to use Colab AI\n",
        "- **Chat panel:** Open the left sidebar (chat bubble / ✨) to ask questions about code and get explanations.\n",
        "- **Help me code:** In a code cell, look for the ✨ button to generate or refactor code suggestions.\n",
        "- **Explain code:** Select code and use the ✨ actions to get a plain‑English explanation.\n",
        "\n",
        "> **Tip:** We encourage you **NOT** to try AI features during the workshop. Our goal is to build the technical knowledge, which can help you make better use of AI later.\n"
      ]
    },
    {
      "cell_type": "markdown",
      "id": "48124fae",
      "metadata": {
        "id": "48124fae"
      },
      "source": [
        "> Run cells top-to-bottom. Code cells are executable; markdown cells are explanatory."
      ]
    },
    {
      "cell_type": "code",
      "execution_count": null,
      "id": "478aaeb5",
      "metadata": {
        "id": "478aaeb5",
        "tags": [
          "colab-ai",
          "demo"
        ]
      },
      "outputs": [],
      "source": [
        "# Colab AI Demo (optional)\n",
        "# Try selecting this function and using ✨ \"Explain code\" or \"Help me code\" in Colab.\n",
        "def greet(name: str) -> str:\n",
        "    return f\"Hello, {name}!\"\n",
        "\n",
        "greet(\"Alp\")"
      ]
    },
    {
      "cell_type": "code",
      "execution_count": null,
      "id": "4bcb8994",
      "metadata": {
        "id": "4bcb8994",
        "tags": [
          "exercise",
          "starter"
        ]
      },
      "outputs": [],
      "source": [
        "def add_two_numbers(x, y):\n",
        "\n"
      ]
    },
    {
      "cell_type": "markdown",
      "id": "eade931c",
      "metadata": {
        "id": "eade931c"
      },
      "source": [
        "\n",
        "## Python vs. Jupyter: What's the Difference?\n",
        "\n",
        "- **Python** is an open-source programming language used widely for data science, analytics, automation, and more.\n",
        "  - Huge ecosystem of libraries (NumPy, pandas, matplotlib, scikit-learn, etc.).\n",
        "- **Jupyter** (Notebook/Lab) is an interactive environment that makes it easier to write and run Python *cells* (snippets of code) alongside text and visuals.\n",
        "  - Ideal for exploration, teaching, and creating reproducible analyses.\n"
      ]
    },
    {
      "cell_type": "markdown",
      "id": "c0205040",
      "metadata": {
        "id": "c0205040"
      },
      "source": [
        "\n",
        "### Example: Creating a simple bar plot\n"
      ]
    },
    {
      "cell_type": "markdown",
      "id": "935785ab",
      "metadata": {
        "id": "935785ab"
      },
      "source": [
        "\n",
        "### Jupyter Environment\n",
        "\n",
        "A typical JupyterLab workspace includes:\n",
        "- **File Browser**: navigate files and folders.\n",
        "- **Notebook Editor**: interleaves markdown cells (text) and code cells.\n",
        "- **Kernel**: the Python process that executes your code.\n",
        "- **Terminals/Consoles**: access to the system shell or a Python REPL.\n",
        "- **Output areas**: where printed text, tables, and plots appear directly below the code cell that produced them.\n",
        "\n",
        "### Source / Notebook Pane\n",
        "- Shows open notebooks and scripts you are editing.\n",
        "- You run code cell-by-cell.\n",
        "\n",
        "### Console / Terminal\n",
        "- **Console**: quick experiments.\n",
        "- **Terminal**: interact with your OS shell.\n",
        "\n",
        "### Variable Inspector\n",
        "- Colab environment provides an inspector to view variables in memory.\n",
        "\n",
        "### Output\n",
        "- Tables, text, and **plots** display below the cell that produced them.\n"
      ]
    },
    {
      "cell_type": "code",
      "execution_count": null,
      "id": "678d65a2",
      "metadata": {
        "colab": {
          "base_uri": "https://localhost:8080/",
          "height": 452
        },
        "id": "678d65a2",
        "outputId": "e6d3c0a6-9dbe-4ddc-9b88-a0f2391cb339"
      },
      "outputs": [
        {
          "data": {
            "image/png": "[encoded data removed]",
            "text/plain": [
              "<Figure size 640x480 with 1 Axes>"
            ]
          },
          "metadata": {},
          "output_type": "display_data"
        }
      ],
      "source": [
        "# Let's create a simple bar plot with matplotlib\n",
        "import matplotlib.pyplot as plt\n",
        "\n",
        "counts = [72, 41, 54, 36]\n",
        "regions = ['East', 'West', 'North', 'South']\n",
        "\n",
        "plt.figure()\n",
        "plt.bar(regions, counts)\n",
        "plt.ylabel('# of Regional Managers')\n",
        "plt.title('Regional Managers by Region')\n",
        "plt.show()\n"
      ]
    },
    {
      "cell_type": "markdown",
      "id": "474e3d61",
      "metadata": {
        "id": "474e3d61"
      },
      "source": [
        "\n",
        "---\n",
        "\n",
        "### Let's remember!  — Where do you look for...?\n",
        "1. Where would you see the value of a variable after you `print()` it?  \n",
        "   - A) In a separate \"Environment\" pane  \n",
        "   - B) Directly below the code cell output\n",
        "   - C) In the file browser  \n",
        "   - D) In a PDF preview\n",
        "\n",
        "\n",
        "2. Where would you find the output of a plot command?  \n",
        "   - A) In the console panel only  \n",
        "   - B) Immediately below the cell that generated it\n",
        "   - C) It opens in a separate window by default  \n",
        "   - D) In the markdown cell above\n",
        "\n",
        "3. Where is your notebook file open?  \n",
        "   - A) Notebook editor pane\n",
        "   - B) Console pane  \n",
        "   - C) Variable inspector  \n",
        "   - D) Output-only pane\n",
        "\n",
        "**Answers in solutions**\n"
      ]
    },
    {
      "cell_type": "markdown",
      "id": "40f8d32d",
      "metadata": {
        "id": "40f8d32d"
      },
      "source": [
        "\n",
        "## Notebooks & Scripts\n",
        "\n",
        "- **Scripts** (`.py` files)\n",
        "  - Great for \"pure code\". Can be run top-to-bottom (e.g., `python script.py`).\n",
        "- **Notebooks** (`.ipynb` files)\n",
        "  - Mix text, code, equations, tables, and plots.\n",
        "  - Excellent for teaching, documentation, exploratory data analysis, and reports.\n",
        "\n",
        "We'll use a **notebook** here to combine explanations with runnable code.\n"
      ]
    },
    {
      "cell_type": "markdown",
      "id": "188cb0d0",
      "metadata": {
        "id": "188cb0d0"
      },
      "source": [
        "### Code cells and writing Python code\n",
        "\n",
        "#### Running a code cell\n",
        "\n",
        "A code cell is a place to write and execute Python code. To run a code cell, click inside of the cell and do one of the following:\n",
        "\n",
        "* Click the **Play icon** in the left gutter of the cell\n",
        "* Type **Cmd/Ctrl+Enter** to run the cell in place\n",
        "* Type **Shift+Enter** to run the cell and move focus to the next cell (adding one if none exists)\n",
        "* Type **Alt+Enter** to run the cell and insert a new code cell immediately below it.\n",
        "\n",
        "There are additional options for running some or all cells in the **Runtime** menu. Run the example code cell below. Don't worry about completely understanding this code, it contains Python syntax that we will introduce over the course of these workshops.\n",
        "\n",
        "#### Comments and code\n",
        "\n",
        "In the code below, you'll see some lines that start with `#` and are shown in a different color of font than the rest of the code. These are comments, which are ways to annotate your code in any Python environment.\n",
        "\n",
        "Python skips over comments when running code, so those lines don't execute any instructions. They can be helpful when debugging code, and for making notes in plain language to help you make sense of the code."
      ]
    },
    {
      "cell_type": "markdown",
      "id": "07cb9026",
      "metadata": {
        "id": "07cb9026"
      },
      "source": [
        "Code contains instructions that are executed when you run them. These are examples of lines of code:"
      ]
    },
    {
      "cell_type": "code",
      "execution_count": null,
      "id": "e0f5b1ec",
      "metadata": {
        "colab": {
          "base_uri": "https://localhost:8080/"
        },
        "id": "e0f5b1ec",
        "outputId": "1ab5e7b7-ff25-475b-b68a-8ba09dea6b5c"
      },
      "outputs": [
        {
          "name": "stdout",
          "output_type": "stream",
          "text": [
            "This is a line of code\n"
          ]
        }
      ],
      "source": [
        "print('This is a line of code')"
      ]
    },
    {
      "cell_type": "code",
      "execution_count": null,
      "id": "1bf69a81",
      "metadata": {
        "colab": {
          "base_uri": "https://localhost:8080/"
        },
        "id": "1bf69a81",
        "outputId": "13c9a1ea-84e3-4d6d-8937-24ee9a370d5d"
      },
      "outputs": [
        {
          "data": {
            "text/plain": [
              "16"
            ]
          },
          "execution_count": 3,
          "metadata": {},
          "output_type": "execute_result"
        }
      ],
      "source": [
        "4 * 4"
      ]
    },
    {
      "cell_type": "markdown",
      "id": "a48b9691",
      "metadata": {
        "id": "a48b9691"
      },
      "source": [
        "**Try it yourself:** What is the output of running this cell?"
      ]
    },
    {
      "cell_type": "code",
      "execution_count": null,
      "id": "2d5b2a09",
      "metadata": {
        "id": "2d5b2a09"
      },
      "outputs": [],
      "source": [
        "# 1 + 1\n",
        "1 + 3"
      ]
    },
    {
      "cell_type": "markdown",
      "id": "f475f97d",
      "metadata": {
        "id": "f475f97d"
      },
      "source": [
        "By default, in Jupyter Notebooks and Google Colab the last line that produces a value in a code cell is printed. To print a value that is not at the end of a code cell use the `print()` function"
      ]
    },
    {
      "cell_type": "code",
      "execution_count": null,
      "id": "c1e8e14e",
      "metadata": {
        "colab": {
          "base_uri": "https://localhost:8080/",
          "height": 52
        },
        "id": "c1e8e14e",
        "outputId": "18af8612-4437-4f54-879c-5597309eb8e1"
      },
      "outputs": [
        {
          "name": "stdout",
          "output_type": "stream",
          "text": [
            "This string is printed using the print function\n"
          ]
        },
        {
          "data": {
            "application/vnd.google.colaboratory.intrinsic+json": {
              "type": "string"
            },
            "text/plain": [
              "'This string is printed because it is the last line in a code cell'"
            ]
          },
          "execution_count": 4,
          "metadata": {},
          "output_type": "execute_result"
        }
      ],
      "source": [
        "print('This string is printed using the print function')\n",
        "\n",
        "'This line is not printed'\n",
        "\n",
        "'This string is printed because it is the last line in a code cell'"
      ]
    },
    {
      "cell_type": "markdown",
      "id": "e747216f",
      "metadata": {
        "id": "e747216f"
      },
      "source": [
        "#### Automatic Completion - Different than AI\n",
        "\n",
        "When typing code in Google Colab, you can use automatic code completion support to get suggestions. For example, if you are unsure if there is a function to find a **minimum value** from a collection of values, you could start typing \"m\" and see a suggested list of options to complete the statement.\n",
        "\n",
        "You can also open the autocomplete list by presssing **ctrl+space**."
      ]
    },
    {
      "cell_type": "code",
      "execution_count": null,
      "id": "b221b6d1-8a16-4dc0-b399-bc5ffb684041",
      "metadata": {
        "id": "b221b6d1-8a16-4dc0-b399-bc5ffb684041"
      },
      "outputs": [],
      "source": []
    },
    {
      "cell_type": "markdown",
      "id": "093c5729",
      "metadata": {
        "id": "093c5729"
      },
      "source": [
        "#### Finding Help in Colab\n",
        "\n",
        "Google Colab allows you to look up documentation on functions. To do this, type the function with a ? after it and run the cell. This will bring up a help window."
      ]
    },
    {
      "cell_type": "code",
      "execution_count": null,
      "id": "3ad0d88e",
      "metadata": {
        "id": "3ad0d88e"
      },
      "outputs": [],
      "source": [
        "# Run this cell to find out what the built-in Python function \"len\" does\n",
        "len?"
      ]
    },
    {
      "cell_type": "markdown",
      "id": "aFXXAYaAL4TM",
      "metadata": {
        "id": "aFXXAYaAL4TM"
      },
      "source": [
        "### Line Style & Indentation:\n",
        "\n",
        "Python uses minimal syntax so no need to scope your code within parantheses. For example C++ uses { }. Similarly, line endings serve as the end of the line. In JavaScript, we need to add ; to end the line. Neither is needed in Python. We will talk about indentation later, however, they are strictly used for scoping functions and conditional statements."
      ]
    },
    {
      "cell_type": "code",
      "execution_count": null,
      "id": "2pEE0dEoLymF",
      "metadata": {
        "id": "2pEE0dEoLymF"
      },
      "outputs": [],
      "source": [
        "# An if/else block and a simple function with a docstring\n",
        "x = 3\n",
        "if x > 0:\n",
        "    msg = \"positive\"\n",
        "else:\n",
        "    msg = \"non-positive\"\n",
        "\n",
        "def greet(name):\n",
        "    \"\"\"Return a friendly greeting for the provided name.\"\"\"\n",
        "    return f\"Hello, {name}!\"\n",
        "\n",
        "msg, greet(\"Tuffy\")"
      ]
    },
    {
      "cell_type": "markdown",
      "id": "fecbd889",
      "metadata": {
        "id": "fecbd889"
      },
      "source": [
        "\n",
        "# Variables in Python\n",
        "\n",
        "Variables are named containers used to store information. They are important the building blocks of writing code.\n",
        "\n",
        "To learn more about variables and data types:\n",
        "\n",
        "- [\"Basics\" chapter of *A Byte of Python*](https://python.swaroopch.com/basics.html)\n",
        "- [\"Variables in Python\" on the website Real Python](https://realpython.com/python-variables/)\n",
        "\n",
        "**Naming rules for Python:**\n",
        "- Must start with a **letter** (A-Z, a-z) or **underscore** (`_`).\n",
        "- May contain letters, digits (0-1), and underscores.\n",
        "- **Case-sensitive** (`myVar` vs `myvar`).\n",
        "- Cannot be a **reserved keyword** (e.g., `if`, `for`, `True`, `None`).\n",
        "\n",
        "Let's look at reserved words:\n"
      ]
    },
    {
      "cell_type": "code",
      "execution_count": null,
      "id": "51049723",
      "metadata": {
        "id": "51049723"
      },
      "outputs": [],
      "source": [
        "\n",
        "import keyword\n",
        "keyword.kwlist\n"
      ]
    },
    {
      "cell_type": "markdown",
      "id": "_ClPy1X30uka",
      "metadata": {
        "id": "_ClPy1X30uka"
      },
      "source": [
        "Running ahaed of myself: `=` is the `assignment` operator in Python. Once used, the variable contains the assigned value."
      ]
    },
    {
      "cell_type": "code",
      "execution_count": null,
      "id": "nXLOAhtL0tMK",
      "metadata": {
        "id": "nXLOAhtL0tMK"
      },
      "outputs": [],
      "source": [
        "# = to assign\n"
      ]
    },
    {
      "cell_type": "code",
      "execution_count": null,
      "id": "0684463b",
      "metadata": {
        "id": "0684463b"
      },
      "outputs": [],
      "source": [
        "\n",
        "# Store a number in the variable \"number\"\n",
        "\n",
        "\n",
        "# Calculate the value of \"number\" * \"number\"\n",
        "\n",
        "\n",
        "# Use a formatted string to output the equation text: \"number x number = number_times\"\n",
        "\n"
      ]
    },
    {
      "cell_type": "markdown",
      "id": "eNn6a96k1K7s",
      "metadata": {
        "id": "eNn6a96k1K7s"
      },
      "source": [
        "**Try it yourself**: Calculate the sum of `number` and `number`, store it in a variable `number_plus`, and print out the value of `number_plus`\n",
        "\n",
        "*Note that in a notebook environment like Colab, variables defined in one cell are accessible in other cells*"
      ]
    },
    {
      "cell_type": "code",
      "execution_count": null,
      "id": "yD6uWNF60TJN",
      "metadata": {
        "id": "yD6uWNF60TJN"
      },
      "outputs": [],
      "source": [
        "# Store the value of \"number\" + \"number\" in \"number_plus\" and print the value\n"
      ]
    },
    {
      "cell_type": "markdown",
      "id": "40be97cb",
      "metadata": {
        "id": "40be97cb"
      },
      "source": [
        "\n",
        "---\n",
        "\n",
        "### Question: Will it be a valid **variable name** in Python?\n",
        "\n",
        "Test these by trying to assign `x = 5` using each name (uncomment one at a time):\n",
        "- `.My_favoritePASSWORDofAlL_tymes`\n",
        "- `_favoritePW`\n",
        "- `PW6`\n",
        "- `PW6_myfav`\n",
        "- `6PW`\n",
        "- `If` (valid — **not** a keyword; keywords are lowercase like `if`)\n",
        "- `if` (**invalid**: keyword"
      ]
    },
    {
      "cell_type": "code",
      "execution_count": null,
      "id": "ee2dd5b4",
      "metadata": {},
      "outputs": [],
      "source": [
        "# Try the variable names\n"
      ]
    },
    {
      "cell_type": "markdown",
      "id": "c7b92112",
      "metadata": {
        "id": "c7b92112"
      },
      "source": [
        "\n",
        "# Data Types\n",
        "\n",
        "Variables can hold different types of values, or data types. There are many data types, but we will only discuss the most common here. Each data type has built in methods for manipulating and extracting the contained value or values.\n",
        "\n",
        "You can get the data type of a value by using the `type()` function. We'll look at the following common data types:\n",
        "\n",
        "- **Numeric** (`int`, `float`)\n",
        "- **Text** (`str`)\n",
        "- **Date/Time** (`datetime.date`, `datetime.datetime`)\n",
        "- **Logical / Boolean** (`bool`: `True` / `False`)"
      ]
    },
    {
      "cell_type": "code",
      "execution_count": null,
      "id": "tstpwsr53cK9",
      "metadata": {
        "id": "tstpwsr53cK9"
      },
      "outputs": [],
      "source": [
        "# Using the built-in Python function \"type\"\n"
      ]
    },
    {
      "cell_type": "markdown",
      "id": "fc9527a5",
      "metadata": {
        "id": "fc9527a5"
      },
      "source": [
        "\n",
        "## Numeric\n",
        "\n",
        "Python distinguishes between integers and floating-point numbers. Integers are whole numbers (1, 42, 0, -8) and floats are numbers with decimals (120.549, -5.3, 8.0).\n",
        "\n",
        "To learn more about numbers and operators:\n",
        "\n",
        "- [\"Operators and Expressions\" chapter of A Byte of Python](https://python.swaroopch.com/op_exp.html)\n",
        "- [Python documentation for numbers.](https://python.swaroopch.com/op_exp.html)\n"
      ]
    },
    {
      "cell_type": "code",
      "execution_count": null,
      "id": "cb336d8e",
      "metadata": {
        "id": "cb336d8e"
      },
      "outputs": [],
      "source": [
        "# Integer\n",
        "\n",
        "\n",
        "# Float\n",
        "\n",
        "\n",
        "# Print the data types of first_num and second_num\n"
      ]
    },
    {
      "cell_type": "markdown",
      "id": "127ef960",
      "metadata": {
        "id": "127ef960"
      },
      "source": [
        "\n",
        "## Text (Strings)\n",
        "\n",
        "Strings are groups of characters, similar to words. They are surrounded by quotes (either single quotes `'a string'` or double quotes `\"a string\"`). Strings are immutable, which means that they cannot be changed after you have created one.\n",
        "\n",
        "To learn more about strings:\n",
        "\n",
        "- [Python documentation for strings](https://docs.python.org/3/tutorial/introduction.html#strings).\n"
      ]
    },
    {
      "cell_type": "code",
      "execution_count": null,
      "id": "b88d06e5",
      "metadata": {
        "id": "b88d06e5"
      },
      "outputs": [],
      "source": [
        "# Store the string \"Hello, I'm Spot the cat. It's nice to meet you.\"\n",
        "# in the variable \"greeting\"\n"
      ]
    },
    {
      "cell_type": "markdown",
      "id": "964ehxI44EeN",
      "metadata": {
        "id": "964ehxI44EeN"
      },
      "source": [
        "**Indexing**\n",
        "\n",
        "The index indicates the position of a character. In Python, we start counting indexes from zero. The first character is at index 0, the second is index 1, the third is index 2, and so on."
      ]
    },
    {
      "cell_type": "code",
      "execution_count": null,
      "id": "0Pijud6P4INb",
      "metadata": {
        "id": "0Pijud6P4INb"
      },
      "outputs": [],
      "source": [
        "# Find a character in a string by index\n",
        "# index 4 will return the fifth character: H[0] e[1] l[2] l[3] o[4]\n"
      ]
    },
    {
      "cell_type": "code",
      "execution_count": null,
      "id": "JlVmM-5T4MlB",
      "metadata": {
        "id": "JlVmM-5T4MlB"
      },
      "outputs": [],
      "source": [
        "# Slice to get the first 3 characters\n",
        "# Basic format is identifier[start:end:step] (the end value is exclusive)\n"
      ]
    },
    {
      "cell_type": "code",
      "execution_count": null,
      "id": "Rg4efDW94Q6X",
      "metadata": {
        "id": "Rg4efDW94Q6X"
      },
      "outputs": [],
      "source": [
        "# You can get the same output by omitting a number on either side of the colon\n",
        "# Omitted start=0, omitted end=length\n"
      ]
    },
    {
      "cell_type": "code",
      "execution_count": null,
      "id": "ky0Wrcd44STl",
      "metadata": {
        "id": "ky0Wrcd44STl"
      },
      "outputs": [],
      "source": [
        "# Get the last three characters of the string by using negative numbers, they\n",
        "# count from the end of the string.\n"
      ]
    },
    {
      "cell_type": "markdown",
      "id": "QYegalrd5TUU",
      "metadata": {
        "id": "QYegalrd5TUU"
      },
      "source": [
        "**Try it yourself**: Use indexing and assignment to set a variable to the last word (is) in the following example.\n",
        "\n",
        "*Tip:* Characters include spaces."
      ]
    },
    {
      "cell_type": "code",
      "execution_count": null,
      "id": "1w_4nHbp5bW_",
      "metadata": {
        "id": "1w_4nHbp5bW_"
      },
      "outputs": [],
      "source": [
        "# Start with this string\n",
        "my_string = \"The sixth character in this string is\"\n",
        "\n",
        "# Create a new variable, set equal to the last word using indexing\n"
      ]
    },
    {
      "cell_type": "markdown",
      "id": "80d0de96",
      "metadata": {
        "id": "80d0de96"
      },
      "source": [
        "\n",
        "## Dates & Times\n",
        "\n",
        "Dates are special because you often want to **format** them nicely and do **date math**.\n"
      ]
    },
    {
      "cell_type": "code",
      "execution_count": null,
      "id": "81a85def",
      "metadata": {
        "id": "81a85def"
      },
      "outputs": [],
      "source": [
        "\n",
        "a_date_but_its_really_a_string = \"07/15/2025\"\n",
        "type(a_date_but_its_really_a_string)  # It's just text\n"
      ]
    },
    {
      "cell_type": "code",
      "execution_count": null,
      "id": "1d630a26",
      "metadata": {
        "id": "1d630a26"
      },
      "outputs": [],
      "source": [
        "from datetime import datetime, timedelta\n",
        "\n",
        "# Trying to add 4 days to a string will fail, so we parse to datetime:\n",
        "my_text_date = \"7/15/25\"\n",
        "my_date_date = datetime.strptime(my_text_date, \"%m/%d/%y\")\n",
        "print(my_date_date)\n",
        "\n",
        "# Using %Y expects a 4-digit year; for \"7/15/25\", %Y would fail\n",
        "# my_date_date_2 = datetime.strptime(my_text_date, \"%m/%d/%Y\")  # would raise ValueError\n"
      ]
    },
    {
      "cell_type": "code",
      "execution_count": null,
      "id": "9eGEIBE19Qef",
      "metadata": {
        "id": "9eGEIBE19Qef"
      },
      "outputs": [],
      "source": [
        "my_new_date = \"2025/08/08\"\n",
        "my_new_date_date = datetime.strptime(my_new_date, \"%Y/%m/%d\")\n",
        "my_new_date_date"
      ]
    },
    {
      "cell_type": "code",
      "execution_count": null,
      "id": "e0e6ba99",
      "metadata": {
        "id": "e0e6ba99"
      },
      "outputs": [],
      "source": [
        "\n",
        "# Date math with timedeltas\n",
        "\n"
      ]
    },
    {
      "cell_type": "markdown",
      "id": "H3Hy9Bro-G39",
      "metadata": {
        "id": "H3Hy9Bro-G39"
      },
      "source": [
        "**Try it yourself**:\n",
        "1. Assign your birthday to `my_birthday` variable.\n",
        "2. Add 10 days\n",
        "3. Print the new date"
      ]
    },
    {
      "cell_type": "code",
      "execution_count": null,
      "id": "SIynKNee-L3U",
      "metadata": {
        "id": "SIynKNee-L3U"
      },
      "outputs": [],
      "source": [
        "from datetime import datetime, timedelta\n",
        "\n"
      ]
    },
    {
      "cell_type": "markdown",
      "id": "e9a2d8b0",
      "metadata": {
        "id": "e9a2d8b0"
      },
      "source": [
        "\n",
        "## Logical / Boolean\n",
        "\n",
        "Boolean variables can take two values `True` or `False`. They are widely used when coding, especially if your code needs to do things based on a condition.\n"
      ]
    },
    {
      "cell_type": "code",
      "execution_count": null,
      "id": "b8813d69",
      "metadata": {
        "id": "b8813d69"
      },
      "outputs": [],
      "source": [
        "\n",
        "dog_is_cute = True\n",
        "# glass_is_full =\n",
        "# todo_is_done =\n",
        "# door_is_closed =\n",
        "# dog_is_cute, glass_is_full, todo_is_done, door_is_closed\n"
      ]
    },
    {
      "cell_type": "markdown",
      "id": "52696328",
      "metadata": {
        "id": "52696328"
      },
      "source": [
        "\n",
        "---\n",
        "\n",
        "**Bonus Try it Yourself:** Variables and Data Types wrap-up\n",
        "1. Create a variable set to some text.\n",
        "\n",
        "2. Create a variable set to a numeric value.\n",
        "\n",
        "3. Create a text variable and set it to a text date.\n",
        "\n",
        "4. Parse the text date as a `datetime` and print it.\n"
      ]
    },
    {
      "cell_type": "markdown",
      "id": "jQ6QIw6YFQ-S",
      "metadata": {
        "id": "jQ6QIw6YFQ-S"
      },
      "source": [
        "\n",
        "## Type Conversion (Casting)\n",
        "You can change the type of data you have **if applicable**.\n",
        "Use `int()`, `float()`, `str()`, `bool()` carefully.\n"
      ]
    },
    {
      "cell_type": "code",
      "execution_count": null,
      "id": "vjZ58tuIFLgs",
      "metadata": {
        "id": "vjZ58tuIFLgs"
      },
      "outputs": [],
      "source": [
        "int_val   = int(\"42\")\n",
        "float_val = float(\"3.14\")\n",
        "trunc     = int(3.99)   # truncates toward zero\n",
        "truthy1   = bool(\"hello\")  # True (non-empty string)\n",
        "truthy2   = bool(0)        # False\n",
        "int_val, float_val, trunc, truthy1, truthy2"
      ]
    },
    {
      "cell_type": "markdown",
      "id": "7939c2bc",
      "metadata": {
        "id": "7939c2bc"
      },
      "source": [
        "\n",
        "# Data Structures\n",
        "\n",
        "We'll explore three widely used structures:\n",
        "\n",
        "- **Lists** 1-D arrays\n",
        "- **Dictionaries**\n",
        "\n",
        "**Indexing Note:** Python uses **0-based indexing** (first element at index `0`), unlike R's 1-based indexing.\n"
      ]
    },
    {
      "cell_type": "markdown",
      "id": "27941398",
      "metadata": {
        "id": "27941398"
      },
      "source": [
        "\n",
        "## Lists - 1-D sequences\n",
        "\n",
        "A list holds a sequence of items. Lists can contain many different data types as list items. To reference a list item, you use the index (starting at zero, the same as a string).\n",
        "\n",
        "To learn more about lists:\n",
        "\n",
        "- [\"Data Structures\" chapter of *A Byte of Python*](https://python.swaroopch.com/data_structures.html)\n",
        "- [Python documentation for lists](https://docs.python.org/3/tutorial/introduction.html#lists)\n"
      ]
    },
    {
      "cell_type": "code",
      "execution_count": null,
      "id": "z7PqYLH0AACH",
      "metadata": {
        "id": "z7PqYLH0AACH"
      },
      "outputs": [],
      "source": [
        "# An example of a list of strings (cat_toys)\n",
        "\n",
        "\n",
        "# Print out the list\n"
      ]
    },
    {
      "cell_type": "code",
      "execution_count": null,
      "id": "Lwz-D7WSAA_o",
      "metadata": {
        "id": "Lwz-D7WSAA_o"
      },
      "outputs": [],
      "source": [
        "# Python allows you to create lists containing elements of different types\n",
        "\n",
        "\n",
        "# Print out the data types of the items in the 'mixed' list (We use a for loop\n",
        "# in this example. We will introduce for loops in the next session)\n"
      ]
    },
    {
      "cell_type": "markdown",
      "id": "dRPcjpVXADuo",
      "metadata": {
        "id": "dRPcjpVXADuo"
      },
      "source": [
        "Indexing is not exclusive to strings. We can slice lists too!"
      ]
    },
    {
      "cell_type": "code",
      "execution_count": null,
      "id": "ku6ma34AANIW",
      "metadata": {
        "id": "ku6ma34AANIW"
      },
      "outputs": [],
      "source": [
        "# Get a list item by index\n"
      ]
    },
    {
      "cell_type": "code",
      "execution_count": null,
      "id": "mkduS4qAAPIR",
      "metadata": {
        "id": "mkduS4qAAPIR"
      },
      "outputs": [],
      "source": [
        "# Replace an element \"in place\" via its index\n"
      ]
    },
    {
      "cell_type": "markdown",
      "id": "sRTlgapkASdV",
      "metadata": {
        "id": "sRTlgapkASdV"
      },
      "source": [
        "**Try it yourself**: Create a list containing mixed-type data. Add your:\n",
        "- Name\n",
        "- Lastname\n",
        "- Age\n",
        "- Boolean (True: if you liked Sabrina Carpenter's new album, False: otherwise)"
      ]
    },
    {
      "cell_type": "code",
      "execution_count": null,
      "id": "InLF9X7nAsFt",
      "metadata": {
        "id": "InLF9X7nAsFt"
      },
      "outputs": [],
      "source": [
        "my_info = []"
      ]
    },
    {
      "cell_type": "markdown",
      "id": "9zDDz0_VBlwT",
      "metadata": {
        "id": "9zDDz0_VBlwT"
      },
      "source": [
        "#### Dictionaries\n",
        "\n",
        "Dictionaries hold values that are associated with a key, they exist as pairs. Each key (like a word in a dictionary) has a value (like the word's definition). You can use the values in a dictionary by referencing the key, since each key is unique. Unlike a list, a dictionary does not have an order.\n",
        "\n",
        "To learn more about dictionaries:\n",
        "- [\"Data Structures\" chapter of *A Byte of Python*](https://python.swaroopch.com/data_structures.html)\n",
        "- [Python documentation for dictionaries](https://docs.python.org/3/tutorial/datastructures.html#dictionaries)"
      ]
    },
    {
      "cell_type": "code",
      "execution_count": null,
      "id": "nZAu_uMLBp7j",
      "metadata": {
        "id": "nZAu_uMLBp7j"
      },
      "outputs": [],
      "source": [
        "# Define a dictionary of cat names and their breed\n",
        "\n",
        "\n",
        "# Print out the dictionary\n"
      ]
    },
    {
      "cell_type": "code",
      "execution_count": null,
      "id": "1ianrrquBzU8",
      "metadata": {
        "id": "1ianrrquBzU8"
      },
      "outputs": [],
      "source": [
        "# You can access the value of a dictionary by calling its key pair\n"
      ]
    },
    {
      "cell_type": "code",
      "execution_count": null,
      "id": "FTBXRKS6B1ak",
      "metadata": {
        "id": "FTBXRKS6B1ak"
      },
      "outputs": [],
      "source": [
        "# You can add new keys and values to a dictionary\n",
        "\n",
        "\n",
        "# Print out the dictionary\n"
      ]
    },
    {
      "cell_type": "markdown",
      "id": "rLRQzk_PCG4r",
      "metadata": {
        "id": "rLRQzk_PCG4r"
      },
      "source": [
        "**Try it Yourself:** Print out \"Spot's\" birthday from the `birthdays` dictionary."
      ]
    },
    {
      "cell_type": "code",
      "execution_count": null,
      "id": "svWBCJQECISo",
      "metadata": {
        "id": "svWBCJQECISo"
      },
      "outputs": [],
      "source": [
        "birthdays = {\n",
        "    \"Bill\": \"Sept 5\",\n",
        "    \"Spot\": \"April 19\",\n",
        "    \"Apple\": \"June 30\",\n",
        "    \"Carla\": \"Dec 21\"\n",
        "}\n"
      ]
    },
    {
      "cell_type": "markdown",
      "id": "0-M_k74BCLLt",
      "metadata": {
        "id": "0-M_k74BCLLt"
      },
      "source": [
        "**Bonus Try it Yourself:** Add \"Sparky\" to the `birthdays` dictionary with the birthday \"May 10\""
      ]
    },
    {
      "cell_type": "code",
      "execution_count": null,
      "id": "XmKPnY9TCOy2",
      "metadata": {
        "id": "XmKPnY9TCOy2"
      },
      "outputs": [],
      "source": []
    },
    {
      "cell_type": "markdown",
      "id": "7094e272",
      "metadata": {
        "id": "7094e272"
      },
      "source": [
        "\n",
        "# Operators\n",
        "We saw the assignment `=` operator. We'll cover:\n",
        "- **Arithmetic**: `+`, `-`, `*`, `/`, `**` (power), `%` (modulus), `//` (integer division)\n",
        "- **Relational**: `<`, `<=`, `>`, `>=`, `==`, `!=`\n",
        "- **Logical**: `and`, `or`, `not` (for scalars); `&`, `|`, `~` for element-wise with NumPy (use parentheses!)\n",
        "\n",
        "Operators can be referred to as `unary` or `binary`. From math class, you may recall that operators act upon operands. Unary means that an operator takes a single operand while binary indicates it takes two.\n",
        "\n",
        "## Arithmetic\n"
      ]
    },
    {
      "cell_type": "code",
      "execution_count": null,
      "id": "fc7c6fc4",
      "metadata": {
        "id": "fc7c6fc4"
      },
      "outputs": [],
      "source": [
        "# Addition\n"
      ]
    },
    {
      "cell_type": "code",
      "execution_count": null,
      "id": "510daa00",
      "metadata": {
        "id": "510daa00"
      },
      "outputs": [],
      "source": [
        "# Division (note the data type of the output)\n"
      ]
    },
    {
      "cell_type": "code",
      "execution_count": null,
      "id": "bfdc62d0",
      "metadata": {
        "id": "bfdc62d0"
      },
      "outputs": [],
      "source": [
        "# Floor Division, rounding down to nearest integer (\"floor\")\n"
      ]
    },
    {
      "cell_type": "code",
      "execution_count": null,
      "id": "vviyEb1D6cdM",
      "metadata": {
        "id": "vviyEb1D6cdM"
      },
      "outputs": [],
      "source": [
        "# Multiplication (note the data type of the output)\n"
      ]
    },
    {
      "cell_type": "markdown",
      "id": "Ds8ELjMa7Ltv",
      "metadata": {
        "id": "Ds8ELjMa7Ltv"
      },
      "source": [
        "**Try it Yourself**: What is 400 times 4, divided by 14, plus 39?"
      ]
    },
    {
      "cell_type": "code",
      "execution_count": null,
      "id": "6JKFmNoY7KpB",
      "metadata": {
        "id": "6JKFmNoY7KpB"
      },
      "outputs": [],
      "source": [
        "# Enter the mathematical equation\n"
      ]
    },
    {
      "cell_type": "markdown",
      "id": "-E6jgEB67QTL",
      "metadata": {
        "id": "-E6jgEB67QTL"
      },
      "source": [
        "**Bonus Try it Yourself:** What is the datatype of the output from the previous cell?"
      ]
    },
    {
      "cell_type": "code",
      "execution_count": null,
      "id": "gAiRRdwx7S3S",
      "metadata": {
        "id": "gAiRRdwx7S3S"
      },
      "outputs": [],
      "source": []
    },
    {
      "cell_type": "markdown",
      "id": "oOzQ1CvN6zzw",
      "metadata": {
        "id": "oOzQ1CvN6zzw"
      },
      "source": [
        "Other mathematical operators you can also use in Python:\n",
        "\n",
        "- **Membership**: `in`, `not in`  \n",
        "- **Identity**: `is`, `is not`  \n",
        "- **Augmented assignment**: `+=`, `-=`, `*=`, `/=`, `//=`, `%=`"
      ]
    },
    {
      "cell_type": "markdown",
      "id": "99251461",
      "metadata": {
        "id": "99251461"
      },
      "source": [
        "\n",
        "## Relational (comparisons)\n",
        "\n",
        "Result is a Boolean: `True` or `False`.\n"
      ]
    },
    {
      "cell_type": "code",
      "execution_count": null,
      "id": "7863ddf9",
      "metadata": {
        "id": "7863ddf9"
      },
      "outputs": [],
      "source": [
        "\n",
        "big_wolf = 135\n",
        "med_wolf_1 = 85\n",
        "med_wolf_2 = 85.000000000001\n",
        "small_wolf = 50\n",
        "\n",
        "my_german_shepard = 85\n"
      ]
    },
    {
      "cell_type": "code",
      "execution_count": null,
      "id": "566aab3c",
      "metadata": {
        "id": "566aab3c"
      },
      "outputs": [],
      "source": [
        "\n",
        "# Safer float equality: use a tolerance\n",
        "import math\n",
        "a = 0.4 + 0.5\n",
        "b = 0.9\n",
        "\n",
        "print(\"Raw difference:\", a - b)\n",
        "print(\"math.isclose:\", math.isclose(a, b, rel_tol=1e-9, abs_tol=1e-12))\n"
      ]
    },
    {
      "cell_type": "markdown",
      "id": "f0c0c144",
      "metadata": {
        "id": "f0c0c144"
      },
      "source": [
        "\n",
        "## Logical\n",
        "\n",
        "- Scalar logic: `and`, `or`, `not`\n",
        "- Element-wise (NumPy): `&`, `|`, `~` (remember parentheses)\n"
      ]
    },
    {
      "cell_type": "code",
      "execution_count": null,
      "id": "f0766296",
      "metadata": {
        "id": "f0766296"
      },
      "outputs": [],
      "source": [
        "\n",
        "num_wolves = 50\n",
        "num_dogs = 25\n",
        "num_cats = 100\n",
        "\n",
        "is_party = False\n",
        "have_hotdogs = True\n",
        "have_cheetos = True\n",
        "\n",
        "# Scalar logic with comparisons\n",
        "(num_wolves < num_dogs) and (num_cats < num_dogs)\n",
        "\n"
      ]
    },
    {
      "cell_type": "markdown",
      "id": "mKmMyrAJFiz5",
      "metadata": {
        "id": "mKmMyrAJFiz5"
      },
      "source": [
        "\n",
        "## Operator Precedence & Short‑Circuiting\n",
        "`and` and `or` short‑circuit: they stop as soon as the result is known.\n"
      ]
    },
    {
      "cell_type": "code",
      "execution_count": null,
      "id": "qH3GmELWFhWp",
      "metadata": {
        "colab": {
          "base_uri": "https://localhost:8080/"
        },
        "id": "qH3GmELWFhWp",
        "outputId": "528e34e1-8c3d-4e1f-9f5a-1b845a597b14"
      },
      "outputs": [
        {
          "name": "stdout",
          "output_type": "stream",
          "text": [
            "left\n",
            "left2\n"
          ]
        },
        {
          "data": {
            "text/plain": [
              "(True, False)"
            ]
          },
          "execution_count": 5,
          "metadata": {},
          "output_type": "execute_result"
        }
      ],
      "source": [
        "def say(label, value):\n",
        "    print(label); return value\n",
        "\n",
        "# Only evaluates the second call if needed\n",
        "result_or = say(\"left\", True) or say(\"right\", False)   # stops after left\n",
        "result_and = say(\"left2\", False) and say(\"right2\", True)  # stops after left2\n",
        "result_or, result_and"
      ]
    },
    {
      "cell_type": "markdown",
      "id": "37877cef",
      "metadata": {
        "id": "37877cef"
      },
      "source": [
        "\n",
        "---\n",
        "\n",
        "**Try it Yourself:**\n",
        "\n",
        "**Problem 1**: You need to see if you have more buns than hotdogs.  \n",
        "Create `num_buns` and `num_hotdogs`. Create `have_enough_buns` that is `True` if you have enough.\n",
        "\n",
        "**Problem 2**: Friday night party chips!\n",
        "- `perfect_chips_portion`: grams per guest\n",
        "- `num_guests`\n",
        "- `num_bags_chips`, `grams_per_bag`\n",
        "- Compute `chips_needed_in_grams`, `total_chips_in_Grams`, and `have_enough_chips`\n",
        "\n",
        "**Problem 3**: Use a logical operator to check whether you have enough buns **and** enough chips. Store in `have_enough_food`.\n",
        "\n",
        "**Problem 4**: Check if a number is even using modulus.\n"
      ]
    },
    {
      "cell_type": "code",
      "execution_count": null,
      "id": "ef894cc1",
      "metadata": {
        "id": "ef894cc1"
      },
      "outputs": [],
      "source": [
        "\n",
        "# Problem 1\n"
      ]
    },
    {
      "cell_type": "code",
      "execution_count": null,
      "id": "ffb0c401",
      "metadata": {
        "id": "ffb0c401"
      },
      "outputs": [],
      "source": [
        "\n",
        "# PROBLEM 2\n",
        "\n"
      ]
    },
    {
      "cell_type": "code",
      "execution_count": null,
      "id": "736d2eb3",
      "metadata": {
        "id": "736d2eb3"
      },
      "outputs": [],
      "source": [
        "\n",
        "# PROBLEM 3\n",
        "\n"
      ]
    },
    {
      "cell_type": "code",
      "execution_count": null,
      "id": "1b9b3fae",
      "metadata": {
        "id": "1b9b3fae"
      },
      "outputs": [],
      "source": [
        "\n",
        "# PROBLEM 4\n"
      ]
    },
    {
      "cell_type": "markdown",
      "id": "e9be278a",
      "metadata": {
        "id": "e9be278a"
      },
      "source": [
        "\n",
        "---\n",
        "\n",
        "## Next Workshop: Control Flow and Functions\n",
        "We'll learn and practice:\n",
        "- Conditionals and loops: `if`, `for`, `while`\n",
        "- Functions (built-in, library, user-defined)\n",
        "- File input/output\n",
        "\n",
        "## Before You Go — Survey\n",
        "We appreciate your input. Let us know how this workshop went for you!  \n",
        "Survey: https://go.ncsu.edu/dss-workshop-eval\n",
        "\n",
        "## Need Additional Help?\n",
        "We’re here to help with questions about this workshop or programming in general.  \n",
        "Get help: https://go.ncsu.edu/getdatahelp\n"
      ]
    },
    {
      "cell_type": "markdown",
      "id": "TZuDiCTJGFax",
      "metadata": {
        "id": "TZuDiCTJGFax"
      },
      "source": [
        "## Bonus Section: Errors and troubleshooting\n",
        "\n",
        "Any time you write code you will encounter errors, it's a normal part of programming. Even experienced coders look up syntax and get errors when their code doesn't work. You can look up unfamiliar errors when you encounter them, but there are a few common types you will likely run into:\n",
        "\n",
        "- NameError - Raised when a variable is not found in the local or global scope.\n",
        "- SyntaxError - Raised by the parser when a syntax error is encountered.\n",
        "- IndexError - Raised when the index of a sequence is out of range.\n",
        "- KeyError - Raised when a key is not found in a dictionary.\n",
        "- TypeError - Raised when a function or operation is applied to an object of an incorrect type.\n",
        "\n",
        "[Error types](https://www.tutorialsteacher.com/python/error-types-in-python) - a table listing the built-in Python error types"
      ]
    },
    {
      "cell_type": "code",
      "execution_count": null,
      "id": "js4UEEL9GM5H",
      "metadata": {
        "id": "js4UEEL9GM5H"
      },
      "outputs": [],
      "source": [
        "# Referencing an undefined variable results in a \"NameError\"\n",
        "\n",
        "undefined_variable"
      ]
    },
    {
      "cell_type": "code",
      "execution_count": null,
      "id": "CIBMuly4GP34",
      "metadata": {
        "id": "CIBMuly4GP34"
      },
      "outputs": [],
      "source": [
        "# Using incorrect Python syntax results in a \"SyntaxError\"\n",
        "\n",
        "minimum = min(56, 234, 8564,"
      ]
    },
    {
      "cell_type": "code",
      "execution_count": null,
      "id": "JJlXa4hMGR4e",
      "metadata": {
        "id": "JJlXa4hMGR4e"
      },
      "outputs": [],
      "source": [
        "# Referencing an index that is out of range results in an \"IndexError\"\n",
        "\n",
        "example_list = [1, 2, 3]\n",
        "example_list[3]"
      ]
    },
    {
      "cell_type": "code",
      "execution_count": null,
      "id": "YMiogSjIGT-b",
      "metadata": {
        "id": "YMiogSjIGT-b"
      },
      "outputs": [],
      "source": [
        "# Referencing a dictionary key that is not valid results in a \"KeyError\"\n",
        "\n",
        "example_dict = {\n",
        "    \"a\": 1,\n",
        "    \"b\": 2,\n",
        "    \"c\": 3\n",
        "}\n",
        "example_dict[\"d\"]"
      ]
    },
    {
      "cell_type": "code",
      "execution_count": null,
      "id": "3cQfmy_QGV-m",
      "metadata": {
        "id": "3cQfmy_QGV-m"
      },
      "outputs": [],
      "source": [
        "# Applying a function or operation to an incorrect data type results in a\n",
        "# \"TypeError\"\n",
        "\n",
        "\"Microphone check 1, \" + 2 + \" what is this?\""
      ]
    },
    {
      "cell_type": "markdown",
      "id": "ENCdD74sGcMJ",
      "metadata": {
        "id": "ENCdD74sGcMJ"
      },
      "source": [
        "**Try it yourself**: Run each cell below to identify the error and then edit the code to fix each error"
      ]
    },
    {
      "cell_type": "code",
      "execution_count": null,
      "id": "kmGL2ljEGYIh",
      "metadata": {
        "id": "kmGL2ljEGYIh"
      },
      "outputs": [],
      "source": [
        "'This is a good string.'\n",
        "'Isn't this string okay?'\n",
        "\"Pretty sure this is a good string.\"\n",
        "\"Is there something wrong with this string?\""
      ]
    },
    {
      "cell_type": "code",
      "execution_count": null,
      "id": "0qQnBXCMGiOH",
      "metadata": {
        "id": "0qQnBXCMGiOH"
      },
      "outputs": [],
      "source": [
        "bank_accounts = {\n",
        "    \"savings\": 100,\n",
        "    \"checking\": 3000\n",
        "}\n",
        "\n",
        "bank_accounts['saving']"
      ]
    },
    {
      "cell_type": "code",
      "execution_count": null,
      "id": "ZsajypuvGkC-",
      "metadata": {
        "id": "ZsajypuvGkC-"
      },
      "outputs": [],
      "source": [
        "count = [1, 2, 3, 4, 5]\n",
        "count[5]"
      ]
    },
    {
      "cell_type": "code",
      "execution_count": null,
      "id": "WuqkEiqyGmD-",
      "metadata": {
        "id": "WuqkEiqyGmD-"
      },
      "outputs": [],
      "source": [
        " 1 + 2 + \"3\""
      ]
    }
  ],
  "metadata": {
    "colab": {
      "provenance": []
    },
    "kernelspec": {
      "display_name": "Python 3 (ipykernel)",
      "language": "python",
      "name": "python3"
    },
    "language_info": {
      "codemirror_mode": {
        "name": "ipython",
        "version": 3
      },
      "file_extension": ".py",
      "mimetype": "text/x-python",
      "name": "python",
      "nbconvert_exporter": "python",
      "pygments_lexer": "ipython3",
      "version": "3.13.2"
    }
  },
  "nbformat": 4,
  "nbformat_minor": 5
}
