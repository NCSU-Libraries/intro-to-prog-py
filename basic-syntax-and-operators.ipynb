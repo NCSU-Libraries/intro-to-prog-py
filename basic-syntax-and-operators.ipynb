{
 "cells": [
  {
   "cell_type": "markdown",
   "id": "ab78af32",
   "metadata": {},
   "source": [
    "# Introduction to Programming with Python\n",
    "\n",
    "## Basic Syntax and Operators\n",
    "\n",
    "### Learning Outcomes\n",
    "\n",
    "In this session, you will:\n",
    "\n",
    "- Understand Python vs. Jupyter/IDE workflows\n",
    "- Work with variables and basic data types\n",
    "- Create and manipulate core data structures\n",
    "- Use arithmetic, relational, and logical operators\n",
    "- Practice with short quizzes\n"
   ]
  },
  {
   "cell_type": "markdown",
   "id": "0de7890b",
   "metadata": {},
   "source": [
    "## Python, IDEs, and Jupyter\n",
    "\n",
    "- Python is a general-purpose programming language.\n",
    "- Jupyter Notebook lets you mix text and runnable code cells.\n",
    "- Many IDEs (VS Code, PyCharm) also support notebooks or Python scripts.\n",
    "\n",
    "Tip: Use Shift+Enter to run a cell and move to the next.\n"
   ]
  },
  {
   "cell_type": "code",
   "execution_count": null,
   "id": "97afeb34",
   "metadata": {},
   "outputs": [],
   "source": [
    "# Optional: imports used in this notebook\n",
    "# If an import fails, install the package in a separate cell:\n",
    "# !pip install numpy pandas matplotlib\n",
    "\n",
    "import math\n",
    "from datetime import datetime, timedelta\n",
    "\n",
    "try:\n",
    "    import numpy as np\n",
    "    import pandas as pd\n",
    "    import matplotlib.pyplot as plt\n",
    "    # Jupyter inline plots\n",
    "    %matplotlib inline\n",
    "except Exception as e:\n",
    "    print(\"If an import failed, run: !pip install numpy pandas matplotlib\")\n"
   ]
  },
  {
   "cell_type": "markdown",
   "id": "389a1034",
   "metadata": {},
   "source": [
    "## A quick plot example\n",
    "We'll create a small bar chart using `matplotlib`.\n"
   ]
  },
  {
   "cell_type": "code",
   "execution_count": null,
   "id": "8587c486",
   "metadata": {},
   "outputs": [],
   "source": [
    "regions = [\"East\", \"West\", \"North\", \"South\"]\n",
    "counts = [72, 41, 54, 36]\n",
    "\n",
    "plt.bar(regions, counts, color=\"blue\")\n",
    "plt.ylabel(\"# of Regional Managers\")\n",
    "plt.title(\"Managers by Region\")\n",
    "plt.show()\n"
   ]
  },
  {
   "cell_type": "markdown",
   "id": "5c271345",
   "metadata": {},
   "source": [
    "## Variables in Python\n",
    "\n",
    "Variables store information. Naming rules (simplified):\n",
    "- Must start with a letter or underscore\n",
    "- Can contain letters, numbers, and underscores\n",
    "- Case-sensitive\n",
    "- Cannot be a reserved keyword\n"
   ]
  },
  {
   "cell_type": "code",
   "execution_count": null,
   "id": "ffbc8714",
   "metadata": {},
   "outputs": [],
   "source": [
    "# Setting some variables\n",
    "bert = 5\n",
    "ernie = \"Bert's Best Friend\"\n",
    "mrs_wuff = 9.732\n",
    "TuFfY = \"8/18/2025\"\n",
    "# Dates in Python are often handled with datetime\n",
    "try:\n",
    "    tuffy_2 = datetime.strptime(\"8/18/2025\", \"%m/%d/%Y\")\n",
    "except Exception as e:\n",
    "    tuffy_2 = None\n",
    "\n",
    "# See the variable values\n",
    "bert, ernie\n"
   ]
  },
  {
   "cell_type": "markdown",
   "id": "1b904e5b",
   "metadata": {},
   "source": [
    "### Assignment operator note\n",
    "In Python, `=` is the assignment operator. There is no `<-` like in R.\n"
   ]
  },
  {
   "cell_type": "markdown",
   "id": "a7b5ea72",
   "metadata": {},
   "source": [
    "## Data Types\n",
    "We'll focus on:\n",
    "- Numeric (int, float)\n",
    "- Text (str)\n",
    "- Date/Time (`datetime`)\n",
    "- Boolean (`bool`)\n"
   ]
  },
  {
   "cell_type": "code",
   "execution_count": null,
   "id": "933a1afa",
   "metadata": {},
   "outputs": [],
   "source": [
    "# Integers and floats\n",
    "my_beloved_integer = -53\n",
    "big_integer = 1_500_225\n",
    "# Python distinguishes int vs float\n",
    "float_value = 42.5\n",
    "random_float = 1999999999.9999998  # floats have precision limits\n",
    "swim_floaties = -25.11235813\n",
    "\n",
    "tricky_float = 198.0\n",
    "(type(tricky_float), type(float_value))\n"
   ]
  },
  {
   "cell_type": "code",
   "execution_count": null,
   "id": "a7fea09c",
   "metadata": {},
   "outputs": [],
   "source": [
    "# Strings and escaping\n",
    "my_first_string = \"String\"\n",
    "my_second_string = \"My second string\"\n",
    "another_string = \"Is this a string or a sentence? I'm not sure...\"\n",
    "ugh_what_now = 'She asked, \"What if I want to put something in quotes?\"'\n",
    "print(ugh_what_now)\n",
    "ugh_what_now_part2 = \"She asked, 'What if I want to put something in single quotes?'\"\n",
    "print(ugh_what_now_part2)\n",
    "(type(ugh_what_now),)\n"
   ]
  },
  {
   "cell_type": "code",
   "execution_count": null,
   "id": "8f837972",
   "metadata": {},
   "outputs": [],
   "source": [
    "# Dates & times\n",
    "text_date = \"07/15/2025\"\n",
    "print(text_date)\n",
    "\n",
    "# Converting to datetime\n",
    "my_text_date = \"7/15/25\"\n",
    "my_date_date = datetime.strptime(my_text_date, \"%m/%d/%y\")\n",
    "print(my_date_date)\n",
    "\n",
    "# What if the format is wrong? This will raise a ValueError\n",
    "try:\n",
    "    my_date_date2 = datetime.strptime(my_text_date, \"%m/%d/%Y\")\n",
    "    print(my_date_date2)\n",
    "except ValueError as e:\n",
    "    print(\"Format mismatch:\", e)\n",
    "\n",
    "# Add 4 days\n",
    "my_new_date_date = my_date_date + timedelta(days=4)\n",
    "my_new_date_date\n"
   ]
  },
  {
   "cell_type": "code",
   "execution_count": null,
   "id": "c54e8b2d",
   "metadata": {},
   "outputs": [],
   "source": [
    "# Booleans\n",
    "dog_is_cute = True\n",
    "glass_is_full = True\n",
    "todo_is_done = False\n",
    "door_is_closed = False\n"
   ]
  },
  {
   "cell_type": "markdown",
   "id": "ab15a6b2",
   "metadata": {},
   "source": [
    "## Quiz #3 (practice)\n",
    "- Create a variable and set it to some text.\n",
    "- Create a variable and set it to a numeric value.\n",
    "- Create a text date, convert it to `datetime`, and print it.\n"
   ]
  },
  {
   "cell_type": "markdown",
   "id": "fad736ca",
   "metadata": {},
   "source": [
    "## Data Structures\n",
    "We'll explore Python lists, NumPy arrays, and pandas DataFrames.\n"
   ]
  },
  {
   "cell_type": "code",
   "execution_count": null,
   "id": "2b71df04",
   "metadata": {},
   "outputs": [],
   "source": [
    "# Python lists (heterogeneous allowed)\n",
    "int_list = [1, 2, 3, 4, 5]\n",
    "float_list = [1.00, 2.25, 3.50, 4.75, 5.00]\n",
    "text_list = [\"one\", \"two\", \"three\", \"four\", \"five\"]\n",
    "bool_list = [True, False, False, True, True]\n",
    "\n",
    "# Mixing types is allowed (but often not wise)\n",
    "doh_list = [1, 2, 3.00, \"four\", \"five\"]\n",
    "\n",
    "int_list, float_list, text_list, bool_list, doh_list\n"
   ]
  },
  {
   "cell_type": "code",
   "execution_count": null,
   "id": "1a03a7ac",
   "metadata": {},
   "outputs": [],
   "source": [
    "# Accessing elements (0-based indexing)\n",
    "int_list[0], float_list[1], text_list[2:4], bool_list[4]\n"
   ]
  },
  {
   "cell_type": "code",
   "execution_count": null,
   "id": "ff12c54a",
   "metadata": {},
   "outputs": [],
   "source": [
    "# NumPy arrays (homogeneous, vectorized operations)\n",
    "arr = np.array([[1,2,3,4,5,6,7,8]]).reshape(4,2, order='F')  # similar to R's column-major\n",
    "arr\n",
    "\n"
   ]
  },
  {
   "cell_type": "code",
   "execution_count": null,
   "id": "8583ebd0",
   "metadata": {},
   "outputs": [],
   "source": [
    "# Zero matrix and element assignment\n",
    "zeros = np.zeros((5,6), dtype=int)\n",
    "zeros[3,3] = -16\n",
    "zeros\n"
   ]
  },
  {
   "cell_type": "code",
   "execution_count": null,
   "id": "692c09fc",
   "metadata": {},
   "outputs": [],
   "source": [
    "# 3D arrays\n",
    "my_array = np.zeros((5,10,3), dtype=int)\n",
    "my_array[0,1,2] = 42  # [row, col, dim]\n",
    "my_array[0,1,2], my_array.shape\n"
   ]
  },
  {
   "cell_type": "code",
   "execution_count": null,
   "id": "e60fd713",
   "metadata": {},
   "outputs": [],
   "source": [
    "# pandas DataFrame (tabular)\n",
    "df = pd.DataFrame({\n",
    "    \"Name\": [\"Snoopy\", \"Scrat\", \"Ratbert\", \"Hobbs\"],\n",
    "    \"Species\": [\"Dog\", \"Squirrel\", \"Rat\", \"Tiger\"],\n",
    "    \"numFriends\": [8, 0, 1, 1],\n",
    "})\n",
    "df\n"
   ]
  },
  {
   "cell_type": "code",
   "execution_count": null,
   "id": "9a37e0a4",
   "metadata": {},
   "outputs": [],
   "source": [
    "# Extracting columns/rows\n",
    "# Single column (as Series)\n",
    "df[\"Name\"]\n",
    "\n",
    "# Multiple columns (as DataFrame)\n",
    "df[[\"Name\", \"numFriends\"]]\n",
    "\n",
    "# By position: use iloc\n",
    "# First two columns\n",
    "df.iloc[:, 0:2]\n",
    "# First two rows\n",
    "df.iloc[0:2, :]\n"
   ]
  },
  {
   "cell_type": "markdown",
   "id": "44259773",
   "metadata": {},
   "source": [
    "## Quiz #4 (practice)\n",
    "- Create a list of 4 words.\n",
    "- Create a 2D NumPy array using numbers 1..24 with a shape that fits them.\n",
    "- Create a 3D NumPy array filled with zeros of any reasonable shape.\n",
    "- Make a pandas DataFrame with two rows and three columns.\n"
   ]
  },
  {
   "cell_type": "markdown",
   "id": "cb6a874d",
   "metadata": {},
   "source": [
    "## Operators\n",
    "Arithmetic, relational, and logical operators in Python.\n"
   ]
  },
  {
   "cell_type": "code",
   "execution_count": null,
   "id": "7b627b44",
   "metadata": {},
   "outputs": [],
   "source": [
    "# Unary and binary\n",
    "less_than_zero = -5\n",
    "x, y = 11, 9\n",
    "a_difference = x - y\n",
    "less_than_zero, a_difference\n"
   ]
  },
  {
   "cell_type": "code",
   "execution_count": null,
   "id": "90b00294",
   "metadata": {},
   "outputs": [],
   "source": [
    "# Arithmetic operators\n",
    "5 + 6, 5 - 6, 5 * 6, 5 / 6, 5 ** 6\n",
    "\n",
    "print('*' * 11)\n",
    "\n",
    "variable_1, variable_2 = 8, 2\n",
    "variable_1 + variable_2, variable_1 - variable_2, variable_1 * variable_2, variable_1 / variable_2, variable_1 ** variable_2\n"
   ]
  },
  {
   "cell_type": "code",
   "execution_count": null,
   "id": "bbfee654",
   "metadata": {},
   "outputs": [],
   "source": [
    "# Floor division and modulus\n",
    "my_number = 10\n",
    "my_first_divisor = 2\n",
    "my_other_divisor = 3\n",
    "\n",
    "my_number // my_first_divisor, my_number % my_first_divisor, \"|\", my_number // my_other_divisor, my_number % my_other_divisor\n"
   ]
  },
  {
   "cell_type": "code",
   "execution_count": null,
   "id": "96926f61",
   "metadata": {},
   "outputs": [],
   "source": [
    "# Relational and logical operators\n",
    "mynum = 5\n",
    "less_than = mynum < 3\n",
    "less_or_equal = mynum <= 3\n",
    "greater_than = mynum > 3\n",
    "greater_or_equal = mynum >= 3\n",
    "equal_to = \"a\" == \"b\"\n",
    "not_equal = \"a\" != \"b\"\n",
    "\n",
    "is_cute = True\n",
    "is_big = False\n",
    "\n",
    "elementwise_and = np.array([True, True, False]) & np.array([False, True, False])\n",
    "logical_and = is_cute and is_big\n",
    "\n",
    "elementwise_or = np.array([True, True, False]) | np.array([False, True, False])\n",
    "logical_or = is_cute or is_big\n",
    "logical_not = not is_cute\n",
    "\n",
    "less_than, less_or_equal, greater_than, greater_or_equal, equal_to, not_equal, elementwise_and, logical_and, elementwise_or, logical_or, logical_not\n"
   ]
  },
  {
   "cell_type": "markdown",
   "id": "92d81e39",
   "metadata": {},
   "source": [
    "## Quiz #5 (practice)\n",
    "\n",
    "1) Do you have enough buns for your hotdogs?\n",
    "- Create `num_buns` and `num_hotdogs`, then compute `have_enough_buns`.\n",
    "\n",
    "2) Chips for guests:\n",
    "- `perfect_chips_portion`, `num_guests`, `chips_needed_grams`.\n",
    "- `num_bag_o_chips`, `grams_per_bag`, `total_chips_grams`.\n",
    "- `have_enough_chips`.\n",
    "\n",
    "3) Use a logical operator to check both are enough: `party_time`.\n",
    "\n",
    "4) Check if `is_this_even` is even using modulus and a relational operator.\n"
   ]
  }
 ],
 "metadata": {
  "kernelspec": {
   "display_name": "Python 3",
   "language": "python",
   "name": "python3"
  },
  "language_info": {
   "name": "python",
   "version": "3"
  }
 },
 "nbformat": 4,
 "nbformat_minor": 5
}
