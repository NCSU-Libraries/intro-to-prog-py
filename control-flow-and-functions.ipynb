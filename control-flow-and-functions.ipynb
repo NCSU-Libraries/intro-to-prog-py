{
 "cells": [
  {
   "cell_type": "markdown",
   "id": "87dbe526",
   "metadata": {},
   "source": [
    "# Introduction to Programming with Python\n",
    "\n",
    "## Control Flow and Functions\n",
    "\n",
    "### Learning Outcomes\n",
    "\n",
    "In this session, you will:\n",
    "- Use conditional statements: `if`, `elif`, `else`\n",
    "- Iterate with `for` and `while` loops\n",
    "- Use built-in and library functions\n",
    "- Write your own functions with parameters and return values\n",
    "- Get help and read documentation\n",
    "- Perform basic file input/output (I/O)\n"
   ]
  },
  {
   "cell_type": "code",
   "execution_count": null,
   "id": "a13500fd",
   "metadata": {},
   "outputs": [],
   "source": [
    "# Imports used in this notebook\n",
    "# !pip install numpy pandas\n",
    "\n",
    "import math\n",
    "from datetime import datetime\n",
    "\n",
    "try:\n",
    "    import numpy as np\n",
    "    import pandas as pd\n",
    "except Exception as e:\n",
    "    print(\"If an import failed, run: !pip install numpy pandas\")\n"
   ]
  },
  {
   "cell_type": "markdown",
   "id": "bfd17420",
   "metadata": {},
   "source": [
    "## Conditionals: if / elif / else\n"
   ]
  },
  {
   "cell_type": "code",
   "execution_count": null,
   "id": "f8b78f6d",
   "metadata": {},
   "outputs": [],
   "source": [
    "x = 10\n",
    "\n",
    "if x > 10:\n",
    "    msg = \"x is greater than 10\"\n",
    "elif x == 10:\n",
    "    msg = \"x equals 10\"\n",
    "else:\n",
    "    msg = \"x is less than 10\"\n",
    "\n",
    "msg\n"
   ]
  },
  {
   "cell_type": "markdown",
   "id": "68bec341",
   "metadata": {},
   "source": [
    "## Loops: for and while\n"
   ]
  },
  {
   "cell_type": "code",
   "execution_count": null,
   "id": "17ff8de2",
   "metadata": {},
   "outputs": [],
   "source": [
    "# for loop\n",
    "squares = []\n",
    "for n in range(1, 6):\n",
    "    squares.append(n * n)\n",
    "squares\n",
    "\n",
    "# while loop\n",
    "countdown = 5\n",
    "steps = []\n",
    "while countdown > 0:\n",
    "    steps.append(countdown)\n",
    "    countdown -= 1\n",
    "steps\n"
   ]
  },
  {
   "cell_type": "markdown",
   "id": "79f2dea3",
   "metadata": {},
   "source": [
    "## Functions\n",
    "- Built-in: e.g., `len`, `sum`, `min`, `max`\n",
    "- Library: e.g., `numpy.mean`, `pandas.DataFrame.head`\n",
    "- User-defined: `def` with parameters and `return`\n"
   ]
  },
  {
   "cell_type": "code",
   "execution_count": null,
   "id": "c0c89a85",
   "metadata": {},
   "outputs": [],
   "source": [
    "# Built-in and library functions\n",
    "nums = [1, 2, 3, 4, 5]\n",
    "len(nums), sum(nums), min(nums), max(nums)\n",
    "\n",
    "np.mean(nums), np.median(nums)\n",
    "\n",
    "# pandas example\n",
    "df = pd.DataFrame({\"x\": nums, \"y\": [n*n for n in nums]})\n",
    "df.head()\n"
   ]
  },
  {
   "cell_type": "code",
   "execution_count": null,
   "id": "f9fbb8fa",
   "metadata": {},
   "outputs": [],
   "source": [
    "# User-defined functions\n",
    "def describe_number(n: int) -> str:\n",
    "    if n % 2 == 0:\n",
    "        return f\"{n} is even\"\n",
    "    return f\"{n} is odd\"\n",
    "\n",
    "describe_number(7), describe_number(10)\n"
   ]
  },
  {
   "cell_type": "markdown",
   "id": "0775193b",
   "metadata": {},
   "source": [
    "## Getting Help and Documentation\n",
    "- Use `help(function)` in Python REPL\n",
    "- In notebooks, append `?` to an object: e.g., `len?` (in IPython)\n",
    "- Read library docs online for details and examples\n"
   ]
  },
  {
   "cell_type": "markdown",
   "id": "1efb5d6a",
   "metadata": {},
   "source": [
    "## File Input and Output (I/O)\n",
    "We'll write a small CSV and read it back.\n"
   ]
  },
  {
   "cell_type": "code",
   "execution_count": null,
   "id": "8f30f43b",
   "metadata": {},
   "outputs": [],
   "source": [
    "# Write CSV\n",
    "sample = pd.DataFrame({\"name\": [\"Alice\", \"Bob\"], \"score\": [95, 88]})\n",
    "sample.to_csv(\"sample.csv\", index=False)\n",
    "\n",
    "# Read CSV\n",
    "loaded = pd.read_csv(\"sample.csv\")\n",
    "loaded\n"
   ]
  },
  {
   "cell_type": "markdown",
   "id": "e5c4520f",
   "metadata": {},
   "source": [
    "## Quiz: Control Flow and Functions\n",
    "1) Write an `if/elif/else` that prints a message based on a numeric grade.\n",
    "2) Use a `for` loop to compute the factorial of 6.\n",
    "3) Write a function `fizzbuzz(n)` returning:\n",
    "   - \"FizzBuzz\" if divisible by 3 and 5\n",
    "   - \"Fizz\" if divisible by 3\n",
    "   - \"Buzz\" if divisible by 5\n",
    "   - the number as a string otherwise.\n",
    "4) Save a small list to CSV and read it back.\n"
   ]
  }
 ],
 "metadata": {
  "kernelspec": {
   "display_name": "Python 3",
   "language": "python",
   "name": "python3"
  },
  "language_info": {
   "name": "python",
   "version": "3"
  }
 },
 "nbformat": 4,
 "nbformat_minor": 5
}
