{
  "cells": [
    {
      "cell_type": "markdown",
      "metadata": {
        "id": "lNhTvE3qkBSO"
      },
      "source": [
        "# Introduction to Programming with Python: Control Flow and Functions\n",
        "\n",
        "**Author:** Alp Tezbasaran\n",
        "\n",
        "**Date:** 2025-09-09\n",
        "\n",
        "## 0. Accessibility: Theme & Text Size\n",
        "\n",
        "A few quick adjustments improve readability during live teaching.\n",
        "\n",
        "### Theme (Light/Dark)\n",
        "- **Tools → Settings → Theme** (or **Appearance**) → choose **Light**, **Dark**, or **System default**.\n",
        "\n",
        "### Editor font size\n",
        "- **Tools → Settings → Editor → Font size** (increase/decrease to your preference).\n",
        "- You can also toggle options like **Line numbers** and **Wrap lines** for readability.\n",
        "\n",
        "### Page zoom (everything bigger/smaller)\n",
        "- Use your browser zoom: **Ctrl/Cmd + ‘+’** (bigger), **Ctrl/Cmd + ‘−’** (smaller), **Ctrl/Cmd + 0** (reset).\n",
        "\n",
        "### Output readability\n",
        "- In **Settings → Editor**, consider toggling **Use monospace font for output** to make tables/text line up.\n",
        "- For high‑contrast needs, consider your OS/browser **high‑contrast** or **inverted colors** settings.\n",
        "\n",
        "> **Tip:** Let's gree on a standard zoom and theme at the start so screenshots and student views match what you present.\n",
        "\n",
        "\n",
        "## 1.&nbsp;Introduction and Setup\n",
        "\n",
        "With this Google Colaboratory (Colab) notebook open, **click the \"Copy to Drive\" button that appears in the menu bar**. The notebook will then be attached to your own user account, so you can edit it in any way you like -- you can even take notes directly in the notebook.\n",
        "\n",
        "## Learning objectives\n",
        "\n",
        "By the end of this workshop, you will be able to:\n",
        "\n",
        "- Use comparison operators (`==`, `!=`, `>`, `<`, `>=`, `<=`) and logical operators (`and`, `or`, `not`) to evaluate conditions\n",
        "- Write conditional statements using `if`, `elif`, and `else` to control program flow\n",
        "- Create `for` loops to iterate over sequences like lists, strings, and ranges\n",
        "- Use `while` loops with proper conditions and `break` statements to control repetition\n",
        "- Work with built-in functions like `print()`, `len()`, and type conversion functions\n",
        "- Use string and list methods with dot notation (e.g., `string.upper()`, `list.append()`)\n",
        "- Define your own functions with parameters and return values\n",
        "- Read from and write to text files using file I/O operations\n",
        "- Combine control flow structures and functions to solve programming problems\n",
        "\n",
        "## Today's Topics\n",
        "\n",
        "- Comparison operators refresher\n",
        "- If statements\n",
        "- For loops\n",
        "- Functions\n",
        "  - Built-in\n",
        "  - Method\n",
        "  - User defined\n",
        "\n",
        "## Questions during the workshop\n",
        "\n",
        "Please feel free to ask questions throughout the workshop.\n",
        "\n",
        "We have other instructors who will available during the workshop. They will answer as able, and will collect questions with answers that might help everyone to be answered at the end of the workshop.\n",
        "\n",
        "### Jupyter Notebooks and Google Colaboratory\n",
        "\n",
        "We will be using Google Colab in today's workshop. Jupyter notebooks are a way to write and run Python code in an interactive way. If you would like to know more about Colaboratory or how to use this tool, you can visit the [Welcome Notebook](https://colab.research.google.com/notebooks/welcome.ipynb).\n",
        "\n",
        "If you'd like to install a Python distribution locally, though, we're happy to help. Feel free to [get help from our graduate consultants](https://go.ncsu.edu/getdatahelp)."
      ]
    },
    {
      "cell_type": "markdown",
      "metadata": {
        "id": "NfBDkM5nkod_"
      },
      "source": [
        "## 2.&nbsp;Control flow\n",
        "\n",
        "Control flow refers to statements that allow you to change the path of your program. Instead of executing each line of code in order sequentially, control flow allows you to skip lines of code, move to different lines of code, or repeatedly execute lines of code.\n",
        "\n",
        "To learn more about control flow:\n",
        "\n",
        "- [\"Control Flow\" chapter of *A Byte of Python*](https://python.swaroopch.com/control_flow.html)\n",
        "- [Python documentation on control flow tools](https://docs.python.org/3/tutorial/controlflow.html)"
      ]
    },
    {
      "cell_type": "markdown",
      "metadata": {
        "id": "_DRa2NGilB0d"
      },
      "source": [
        "### 2.1&nbsp;Comparison Operators\n",
        "\n",
        "Comparison operators are used to compare two values and return a value of `True` or `False`, a boolean data type. They are often used in if statements.\n",
        "\n",
        "The following are Python comparison operators: `==`, `!=`, `>`, `<`, `>=`, `<=`\n",
        "\n",
        "*Note:* To compare two values, make sure to use `==`. A single `=` is used for assignment, like creating variables."
      ]
    },
    {
      "cell_type": "code",
      "execution_count": null,
      "metadata": {
        "colab": {
          "base_uri": "https://localhost:8080/"
        },
        "id": "AssoTM92lDzc",
        "outputId": "e1535076-609e-47df-fa2e-3b8cae0f8087"
      },
      "outputs": [],
      "source": [
        "# Compare numbers\n",
        "5 > 2\n",
        "5 < 2\n",
        "5 == 2\n",
        "5 == 5\n",
        "5 != 2\n",
        "5 >= 5\n",
        "5 <= 5"
      ]
    },
    {
      "cell_type": "code",
      "execution_count": null,
      "metadata": {
        "id": "kHoN-m_AlIt9"
      },
      "outputs": [],
      "source": [
        "# Compare strings\n",
        "'This string' == \"This string\"\n",
        "\"This string\" == \"This String\"\n",
        "\"s\" == \"s\""
      ]
    },
    {
      "cell_type": "code",
      "execution_count": null,
      "metadata": {
        "id": "_fsRli4UlJnd"
      },
      "outputs": [],
      "source": [
        "# Compare other expressions using multiple data types\n",
        "len('cat') > 5 - 2"
      ]
    },
    {
      "cell_type": "markdown",
      "metadata": {
        "id": "3LLHTaTRlMFM"
      },
      "source": [
        "**Try it yourself:** What is the result of this comparison?\n",
        "\n",
        "*Hint:* Remember that lists are surrounded by square brackets."
      ]
    },
    {
      "cell_type": "code",
      "execution_count": null,
      "metadata": {
        "id": "32H1aem8lLJa"
      },
      "outputs": [],
      "source": [
        "len([1, 22, 5]) == 2"
      ]
    },
    {
      "cell_type": "code",
      "execution_count": null,
      "metadata": {
        "id": "e7p9Vb3KlVFL"
      },
      "outputs": [],
      "source": [
        "len('alp') > len('tezbasaran')"
      ]
    },
    {
      "cell_type": "markdown",
      "metadata": {
        "id": "SSJLm9sFlY_V"
      },
      "source": [
        "### 2.2&nbsp;Logical Operators\n",
        "\n",
        "Logical operators are used to evaluate multiple conditional statements and return a value of `True` or `False`, a boolean data type. They allow us to combine the results of multiple comparisons.\n",
        "\n",
        "The following are Python comparison operators: `and`, `or`, `not`\n",
        "\n",
        "- `and` checks if both conditions are true\n",
        "<img src=\"https://raw.githubusercontent.com/ncsu-libraries-data-vis/introduction-to-programming-with-python/main/images/venn_diagram_and.png\" alt=\"A venn diagram labeled 'and' with the middle, overlapping section shaded in. Shows that 'and' is true only when both conditions are met.\" width=\"25%\"/>\n",
        "- `or` for at least one condition to be true\n",
        "<img src=\"https://raw.githubusercontent.com/ncsu-libraries-data-vis/introduction-to-programming-with-python/main/images/venn_diagram_or.png\" alt=\"A venn diagram labeled 'or,' with both circles completely filled in. Shows that 'or' is true if either of the two conditions are met or both conditions are met.\" width=\"25%\"/>\n",
        "- `not` checks for the opposite of the condition\n",
        "\n",
        "To learn more about logical and comparison operators:\n",
        "\n",
        "-  [\"Operators and Expressions\"](https://python.swaroopch.com/op_exp.html) chapter in a *Byte of Python*"
      ]
    },
    {
      "cell_type": "code",
      "execution_count": null,
      "metadata": {
        "id": "kjD8phgwliOO"
      },
      "outputs": [],
      "source": [
        "# Define a variable to use in the following examples\n",
        "num = 5"
      ]
    },
    {
      "cell_type": "code",
      "execution_count": null,
      "metadata": {
        "id": "iYeZXb0tlirc"
      },
      "outputs": [],
      "source": [
        "# The \"and\" operator checks if both conditions are True\n",
        "num > 3 and num < 10"
      ]
    },
    {
      "cell_type": "code",
      "execution_count": null,
      "metadata": {
        "id": "eQvS687nlkOI"
      },
      "outputs": [],
      "source": [
        "# The \"or\" operator checks if at least one of the conditions are True\n",
        "num > 500 or num < -3"
      ]
    },
    {
      "cell_type": "code",
      "execution_count": null,
      "metadata": {
        "id": "DPxjl3cklnAz"
      },
      "outputs": [],
      "source": [
        "# The \"not\" operator returns the opposite of the return of a comparison\n",
        "not num > 10"
      ]
    },
    {
      "cell_type": "code",
      "execution_count": null,
      "metadata": {
        "id": "Z0mSUI75lnsH"
      },
      "outputs": [],
      "source": [
        "# Using multiple logical operators, order of evaluation goes from \"not\" to\n",
        "# \"and\" to \"or\". Logical expressions surrounded by parentheses will be\n",
        "# evaluated first\n",
        "\n",
        "# Results without parentheses\n",
        "print(type(num) == int and not num == 0 or num == 5)\n",
        "\n",
        "# Results with parentheses\n",
        "type(num) == int and not (num == 0 or num == 5)"
      ]
    },
    {
      "cell_type": "markdown",
      "metadata": {
        "id": "_xka9BSWlvFl"
      },
      "source": [
        "**Try it Yourself:** Write a statement that checks if a number is less than 10 and greater than zero."
      ]
    },
    {
      "cell_type": "code",
      "execution_count": null,
      "metadata": {
        "id": "q_25nFDBl3Zc"
      },
      "outputs": [],
      "source": [
        "num < 10 and num > 0"
      ]
    },
    {
      "cell_type": "markdown",
      "metadata": {
        "id": "P6cJoGIxl5yY"
      },
      "source": [
        "**Bonus Try it Yourself:** Write a statement that checks if an integer is even (divisible by 2) and is either greater than 10 or less than -10.\n",
        "\n",
        "*Hint: Check out the [Python modulo operator (%)](https://realpython.com/python-modulo-operator/#modulo-operator-with-int) for testing if an integer is divisible by 2. Also, remember order of logical operator evaluation*."
      ]
    },
    {
      "cell_type": "code",
      "execution_count": null,
      "metadata": {
        "id": "GM100Albl9RA"
      },
      "outputs": [],
      "source": [
        "example_num = 26\n",
        "\n",
        "example_num % 2 == 0 and (example_num < -10 or example_num > 10)\n",
        "# example_num % 5"
      ]
    },
    {
      "cell_type": "markdown",
      "metadata": {
        "id": "aeW2cyrMmAm0"
      },
      "source": [
        "## 3&nbsp;Branching\n",
        "\n",
        "### 3.1&nbsp;If Statements\n",
        "\n",
        "\"The if statement is used to check a condition: if the condition is true, we run a block of statements (called the if-block), else we process another block of statements (called the else-block). The else clause is optional.\" (From [\"Control Flow\" chapter of *A Byte of Python* includes a section on \"If Statements\"](https://python.swaroopch.com/control_flow.html))\n",
        "\n",
        "A block of code associated with an if statement is defined using indentation. A basic if statement has the following generalized syntax:\n",
        "\n",
        "```python\n",
        "if conditional_expression:\n",
        "    '''\n",
        "    indented block of code\n",
        "    that will run when\n",
        "    conditional_expression equals true\n",
        "    '''\n",
        "```"
      ]
    },
    {
      "cell_type": "code",
      "execution_count": null,
      "metadata": {
        "id": "_uuF1dUlmU0g"
      },
      "outputs": [],
      "source": [
        "if False:\n",
        "  print('i am BATMAN')\n",
        "\n",
        "print('i am alp')"
      ]
    },
    {
      "cell_type": "markdown",
      "metadata": {
        "id": "s_K7cz-amfNR"
      },
      "source": [
        "#### 3.2&nbsp;If, Else (`if`, `else`)"
      ]
    },
    {
      "cell_type": "code",
      "execution_count": null,
      "metadata": {
        "id": "2if7r4Kxmizg"
      },
      "outputs": [],
      "source": [
        "# If statements (conditional execution)\n",
        "cat_name = \"Sally\"\n",
        "\n",
        "# Print \"Hi Bill!\" if cat_name is \"Bill\"\n",
        "# Add an else statement if the condition isn't met\n",
        "if cat_name == \"Bill\":\n",
        "  print(\"Hi Bill!\")\n",
        "else:\n",
        "  print(\"Hi Sally!\")"
      ]
    },
    {
      "cell_type": "markdown",
      "metadata": {
        "id": "e0JOk0y9mmsd"
      },
      "source": [
        "#### 3.3&nbsp;If, Else if, Else (`if`, `elif`, `else`)"
      ]
    },
    {
      "cell_type": "code",
      "execution_count": null,
      "metadata": {
        "id": "DDR6p4XHm3D2"
      },
      "outputs": [],
      "source": [
        "# You can use if, else if (\"elif\"), and else to specify more than one condition\n",
        "cat_name = \"Bill2\"\n",
        "\n",
        "# Print \"Hi Bill!\" if cat_name is \"Bill\"\n",
        "# Print \"Hi Sally!\" if cat_name is \"Sally\"\n",
        "# Add an else statement if the condition isn't met\n",
        "if cat_name == \"Bill\":\n",
        "  print(\"Hi Bill\")\n",
        "elif cat_name == \"Sally\":\n",
        "  print(\"Hi Sally\")\n",
        "else:\n",
        "  print(\"Who are you? No free food here!\")\n"
      ]
    },
    {
      "cell_type": "code",
      "execution_count": null,
      "metadata": {
        "id": "Vy7me7ETm7iW"
      },
      "outputs": [],
      "source": [
        "# You can also add logical operators (and, or, not) to evaluate expressions.\n",
        "cat_name = \"fluffy\"\n",
        "\n",
        "# Print \"Hi Bill!\" if cat_name is \"Bill\"\n",
        "# Print \"Hi Sally!\" if cat_name is \"Sally\"\n",
        "# Add an else statement if the condition isn't met\n",
        "if cat_name == \"Bill\" or cat_name == \"Sally\":\n",
        "  print(\"Hi \" + cat_name + \" !\")\n",
        "else:\n",
        "  print(\"You are a persisten stranger cat. But I love cats so here you go..\")\n"
      ]
    },
    {
      "cell_type": "code",
      "execution_count": null,
      "metadata": {
        "id": "wnsAIgU0nBjs"
      },
      "outputs": [],
      "source": [
        "# Comparing numbers in an if statement\n",
        "cat_ages = {\n",
        "    \"Sally\": 5,\n",
        "    \"Bob\": 16,\n",
        "    \"Bill\": 1,\n",
        "    \"Carla\": 10,\n",
        "    \"Pete\": 3\n",
        "}\n",
        "\n",
        "cat_name = \"Carla\"\n",
        "\n",
        "# Print a message based on the age range of a cat\n",
        "# 0 to 3 years old = kitten\n",
        "# 3 to 10 years old = adult\n",
        "# 10 or more years old = senior\n",
        "if cat_ages[cat_name] < 3:\n",
        "  print(\"You are a kitten \" + cat_name + \"!\")\n",
        "elif cat_ages[cat_name] <= 10:\n",
        "  print(\"You are an adult \" + cat_name + \"!\")\n",
        "else:\n",
        "  print(\"You are a senior \" + cat_name)\n"
      ]
    },
    {
      "cell_type": "markdown",
      "metadata": {
        "id": "fsFvHuQXnIGS"
      },
      "source": [
        "Additionally, you can use the logical comparisons `in` and `not in` to evaluate if a value is or is not in a list."
      ]
    },
    {
      "cell_type": "code",
      "execution_count": null,
      "metadata": {
        "id": "uX5miZfynIwv"
      },
      "outputs": [],
      "source": [
        "# A list of my cats\n",
        "my_cats = [\"Sally\", \"Bob\"]\n",
        "\n",
        "cat_name = \"Sally\"\n",
        "\n",
        "# Print \"This is my cat!\" if a name is in \"my_cats\"\n",
        "if cat_name in my_cats:\n",
        "  print(cat_name + \" is my cat\")\n",
        "else:\n",
        "  print(cat_name + \" is a freeloader\")"
      ]
    },
    {
      "cell_type": "markdown",
      "metadata": {
        "id": "QYr87-qjnNEg"
      },
      "source": [
        "**Try it yourself:** Write an if statement that prints out a message based on membership in the *International Cats of Mystery* service. Two lists are provided below, one for current members and one for new members.\n",
        "\n",
        "Members will see, _\"Thank you for being a member!\"_\n",
        "\n",
        "New members will see, _\"Welcome to the International Cats of Mystery!\"_\n",
        "\n",
        "Anyone else will be asked, _\"Would you like to join the International Cats of Mystery?\"_"
      ]
    },
    {
      "cell_type": "code",
      "execution_count": null,
      "metadata": {
        "id": "Jx6xNYJ_nOPf"
      },
      "outputs": [],
      "source": [
        "# Current members\n",
        "members = [\"Pete\", \"Carla\", \"Bob\", \"Bill\"]\n",
        "# New members\n",
        "new_members = [\"Bill\", \"Sally\"]\n",
        "\n",
        "# A name to test\n",
        "name_test = \"Bill\"\n",
        "\n",
        "# Write an if statement here\n",
        "if name_test in new_members:\n",
        "  print(\"Welcome to the International Cats of Mystery!\")\n",
        "elif name_test in members:\n",
        "  print(\"Already a member\")\n",
        "else:\n",
        "  print(\"You need cuddle to become member!\")\n",
        "\n"
      ]
    },
    {
      "cell_type": "markdown",
      "metadata": {
        "id": "4Qm-zmYRnTTp"
      },
      "source": [
        "## 4&nbsp;Repeats\n",
        "\n",
        "Repeat structures, also known as loops, allow you to execute a block of code multiple times.\n",
        "\n",
        "### 4.1&nbsp;For loops\n",
        "\n",
        "For loops iterate over a sequence of objects and allow us to run a block of code for each object in the sequence.\n",
        "\n",
        "For example, a \"For loop\" can be used to go through a list of names, and evaluate whether each name is uppercase or not.\n",
        "\n",
        "Like if statements, a block of code associated with a for loop is defined using indentation. A for loop has the generalized syntax:\n",
        "\n",
        "```python\n",
        "for item in sequence:\n",
        "    '''\n",
        "    indented block of code\n",
        "    that will run for each\n",
        "    item in sequence\n",
        "    '''\n",
        "```\n",
        "\n",
        "- [Refer to the \"For loop\" section in \"Control Flow\" chapter of *A Byte of Python*](https://python.swaroopch.com/control_flow.html)"
      ]
    },
    {
      "cell_type": "code",
      "execution_count": null,
      "metadata": {
        "id": "dw_bbfM6nenB"
      },
      "outputs": [],
      "source": [
        "# Iterate over a range using the \"range()\" function\n",
        "# The range function returns a sequence of numbers\n",
        "for alp in range(10, 100, 10):\n",
        "  print(alp)"
      ]
    },
    {
      "cell_type": "code",
      "execution_count": null,
      "metadata": {
        "id": "AeH9uOTlnibX"
      },
      "outputs": [],
      "source": [
        "# Iterate over a string\n",
        "for i in \"Bill\":\n",
        "  print(i)"
      ]
    },
    {
      "cell_type": "code",
      "execution_count": null,
      "metadata": {
        "id": "Aot9gGm3ni-U"
      },
      "outputs": [],
      "source": [
        "# For loops let you iterate over a list\n",
        "cat_names = [\"Bob\", \"Bill\", \"Pete\", \"Carla\", \"Sally\"]\n",
        "\n",
        "# Loop over the members of cat_names to print out the element and its length\n",
        "for name in cat_names:\n",
        "  print(name + \" ate\")"
      ]
    },
    {
      "cell_type": "code",
      "execution_count": null,
      "metadata": {
        "id": "TT9SyZFenleO"
      },
      "outputs": [],
      "source": [
        "# There are a few ways to iterate over a dictionary, depending on the part of\n",
        "# the dictionary you need\n",
        "cat_ages = {\n",
        "    \"Sally\": 5,\n",
        "    \"Bob\": 16,\n",
        "    \"Bill\": 1,\n",
        "    \"Carla\": 10,\n",
        "    \"Pete\": 3\n",
        "}\n",
        "\n",
        "# Iterate using a dictionary's keys\n",
        "# See also dict.keys()\n",
        "for cat in cat_ages:\n",
        "  print(f'key: {cat}')\n",
        "\n",
        "for cat in cat_ages.keys():\n",
        "  print(f'key: {cat}')\n",
        "\n",
        "# Iterate using a dictionary's keys to get the values\n",
        "# See also dict.values()\n",
        "for cat in cat_ages:\n",
        "  # print(cat)\n",
        "  print('value: ', cat_ages[cat])\n",
        "for cat in cat_ages:\n",
        "  # print(cat)\n",
        "  print(f'cat: {cat}, value {cat_ages[cat]}')\n",
        "\n",
        "for age in cat_ages.values():\n",
        "  print(\"age\", age)\n",
        "\n",
        "# Iterate using a dictionary's keys and values\n",
        "# See also dict.items()\n",
        "for cat, age in cat_ages.items():\n",
        "  print(f'key: {cat}, value: {age}')"
      ]
    },
    {
      "cell_type": "code",
      "execution_count": null,
      "metadata": {
        "id": "SZr-w4BOnq-9"
      },
      "outputs": [],
      "source": [
        "# You can combine types of control flow, this is called \"nesting\"\n",
        "for name in cat_names:\n",
        "  if len(name) >= 10:\n",
        "    print(name)"
      ]
    },
    {
      "cell_type": "markdown",
      "metadata": {
        "id": "6RgsIb5Xn191"
      },
      "source": [
        "### 4.2&nbsp;While loops\n",
        "\n",
        "While loops keep running a block of code as long as a condition remains true. Unlike for loops, they don't automatically go through a sequence of objects (iterables) — instead, you control the looping manually by updating variables inside the loop.\n",
        "\n",
        "For example, a \"while loop\" can be used to go through a list of names by keeping track of the position (index) in the list, and then evaluating whether each name is uppercase or not.\n",
        "\n",
        "Like if statements and for loops, a block of code associated with a while loop is defined using indentation. A while loop has the generalized syntax:\n",
        "\n",
        "```python\n",
        "while condition:\n",
        "    # indented block of code\n",
        "```\n",
        "\n",
        "- [Refer to the \"While loop\" section in \"Control Flow\" chapter of *A Byte of Python*](https://python.swaroopch.com/control_flow.html)"
      ]
    },
    {
      "cell_type": "code",
      "execution_count": null,
      "metadata": {
        "colab": {
          "base_uri": "https://localhost:8080/"
        },
        "id": "uM0Jzd-8pkIS",
        "outputId": "6ecb43f0-e1d0-4c5a-bcec-4f5f354c9302"
      },
      "outputs": [],
      "source": [
        "big_cats = [\"ALICE\", \"Bob\", \"CHARLIE\"]\n",
        "\n",
        "i = 0\n",
        "while i < len(big_cats):\n",
        "  big_cat_name = big_cats[i]\n",
        "  if big_cat_name.isupper():\n",
        "      print(f\"{big_cat_name} is uppercase\")\n",
        "  else:\n",
        "      print(f\"{big_cat_name} is not uppercase\")\n",
        "  i += 1"
      ]
    },
    {
      "cell_type": "code",
      "execution_count": null,
      "metadata": {
        "colab": {
          "base_uri": "https://localhost:8080/"
        },
        "id": "owyw7y5pqryG",
        "outputId": "9a9782ca-8c45-436e-b226-46a4e80b4574"
      },
      "outputs": [],
      "source": [
        "# beware of infinite loops!\n",
        "i = 0\n",
        "while True:\n",
        "  i += 1\n",
        "  print(i)\n",
        "  # break keyword is used to escape the current loop\n",
        "  if i > 10:\n",
        "    break\n"
      ]
    },
    {
      "cell_type": "markdown",
      "metadata": {
        "id": "CyKIhhj1wJHd"
      },
      "source": [
        "**Try it yourself**: Use a for loop to iterate through the list `fruits = [\"apple\", \"banana\", \"orange\", \"grape\"]` and print each fruit with a message like \"I like [fruit]\"."
      ]
    },
    {
      "cell_type": "code",
      "execution_count": null,
      "metadata": {
        "id": "z-MkOXZcwPJA"
      },
      "outputs": [],
      "source": [
        "# Iterate through a list of fruits using a for loop\n",
        "fruits = [\"apple\", \"banana\", \"orange\", \"grape\"]\n",
        "for fruit in fruits:\n",
        "    print(f\"I like {fruit}\")\n"
      ]
    },
    {
      "cell_type": "markdown",
      "metadata": {
        "id": "x47kM3VQwT1s"
      },
      "source": [
        "**Bonus Try it yourself**: Use a while loop with the `break` statement to find the first number greater than 20 that is divisible by 7. Print each number you check and then print the final result."
      ]
    },
    {
      "cell_type": "code",
      "execution_count": null,
      "metadata": {
        "id": "1i-p1J-qwbPi"
      },
      "outputs": [],
      "source": [
        "# Find the first number greater than 20 that is divisible by 7\n",
        "number = 21  # Start checking from 21\n",
        "while True:\n",
        "    print(f\"Checking {number}\")\n",
        "    if number % 7 == 0:\n",
        "        print(f\"Found it! {number} is divisible by 7\")\n",
        "        break\n",
        "    number += 1\n"
      ]
    },
    {
      "cell_type": "markdown",
      "metadata": {
        "id": "gAT_agzKxEOP"
      },
      "source": [
        "## 5&nbsp;Functions\n",
        "\n",
        "Functions in Python are reusable blocks of code that perform a specific task. They make programs more organized, readable, and efficient by avoiding repetition.\n",
        "\n",
        "Types of functions in Python:\n",
        "- Built-in functions → already provided by Python (e.g., `print()`, `len()`)\n",
        "- Method functions → functions that belong to objects and are called with dot notation (e.g., `\"hello\".upper()`)\n",
        "- User-defined functions → created by programmers using the def keyword\n"
      ]
    },
    {
      "cell_type": "markdown",
      "metadata": {
        "id": "w_OVvWXfypVL"
      },
      "source": [
        "### 5.1&nbsp;Built-in functions\n",
        "These functions are functions that come ready-to-use with Python — you don’t need to define them yourself or import anything to use them. They provide common, everyday functionality like getting the length of a list (`len()`), displaying output (`print()`), or converting data types (`int()`, `str()`, `float()`)."
      ]
    },
    {
      "cell_type": "code",
      "execution_count": null,
      "metadata": {
        "colab": {
          "base_uri": "https://localhost:8080/"
        },
        "id": "0CRuJdMXyt09",
        "outputId": "56fd3e15-c326-4571-ab5e-e224a82f3ac2"
      },
      "outputs": [],
      "source": [
        "# We already say lenght and print\n",
        "names = [\"Candy\", \"Crystal\", \"Carmen\"]\n",
        "# print the second name\n",
        "print(\"Second person:\", names[0])\n",
        "# print the number of names in the list\n",
        "print(\"Number of names\", len(names))\n"
      ]
    },
    {
      "cell_type": "code",
      "execution_count": null,
      "metadata": {
        "colab": {
          "base_uri": "https://localhost:8080/"
        },
        "id": "iubWoXLV0Ebg",
        "outputId": "37872229-f6f8-4e09-f93b-b2c370284d5b"
      },
      "outputs": [],
      "source": [
        "# convert between data types\n",
        "num_str = \"100\"\n",
        "type(num_str)\n",
        "num_int = int(num_str)  # convert string to integer\n",
        "print(num_int + 50)     # now we can do math with it"
      ]
    },
    {
      "cell_type": "markdown",
      "metadata": {
        "id": "0XnQBg070LGy"
      },
      "source": [
        "**Try it yourself**:\n",
        "- Create a variable with your favorite word (as a string).\n",
        "- Use `print()` to display it.\n",
        "- Use `len()` to find out how many letters it has.\n",
        "- Use `type()` to check its data type.\n"
      ]
    },
    {
      "cell_type": "code",
      "execution_count": null,
      "metadata": {
        "id": "PQW9kU970TvD"
      },
      "outputs": [],
      "source": [
        "# Create a variable with your favorite word\n",
        "favorite_word = \"Python\"\n",
        "\n",
        "# Use print() to display it\n",
        "print(favorite_word)\n",
        "\n",
        "# Use len() to find out how many letters it has\n",
        "print(f\"The word '{favorite_word}' has {len(favorite_word)} letters\")\n",
        "\n",
        "# Use type() to check its data type\n",
        "print(f\"The data type is: {type(favorite_word)}\")"
      ]
    },
    {
      "cell_type": "markdown",
      "metadata": {
        "id": "ieLXzairyjDP"
      },
      "source": [
        "### 5.2&nbsp;Method functions\n",
        "\n",
        "Method functions are functions that belong to specific objects, like strings, lists, or dictionaries. Methods usually perform actions that are natural for that type of object — for example, changing text in a string or adding items to a list. An object's methods are callable using dot (`.`) notation. First you call the object (ex: the string itself), then a period (`.`), and then you can call a method name, followed by an open and close parentheses `()`. For some methods you include arguments inside of the parentheses that provide additional data to the method or specify method parameters. Dot notation has the following general format:\n",
        "\n",
        "```python\n",
        "object.method(argument_1, argument_2)\n",
        "```\n",
        "\n",
        "Examples of method functions:\n",
        "- String methods:\n",
        "  - \"hello\".upper() → converts all letters to uppercase\n",
        "  - \"HELLO\".lower() → converts all letters to lowercase\n",
        "  - \"Python\".replace(\"P\", \"J\") → replaces part of a string\n",
        "- List methods:\n",
        "  - my_list.append(item) → adds an item to the end of a list\n",
        "  - my_list.sort() → sorts the list in place\n"
      ]
    },
    {
      "cell_type": "markdown",
      "metadata": {
        "id": "GV_95boi1rSt"
      },
      "source": [
        "### 5.2.1&nbsp;String Methods\n",
        "Strings, or more specifically string objects, contain methods that allow you to perform operations specific to string data types.\n",
        "\n",
        "[Full list of Python string methods](https://www.w3schools.com/python/python_ref_string.asp)"
      ]
    },
    {
      "cell_type": "code",
      "execution_count": null,
      "metadata": {
        "id": "pVBh4B4R1tS9"
      },
      "outputs": [],
      "source": [
        "word = \"python\"\n",
        "# uppercase\n",
        "print(word.upper())\n",
        "# capitalize first letter\n",
        "print(word.capitalize())\n",
        "# replace part of string\n",
        "print(word.replace(\"py\", \"ja\"))\n"
      ]
    },
    {
      "cell_type": "code",
      "execution_count": null,
      "metadata": {
        "id": "wNdIpK8k3FFB"
      },
      "outputs": [],
      "source": [
        "greeting = \"Hello, I'm Spot the cat. It's nice to meet you.\"\n",
        "# Count spaces in the string. Here, count() is a method that all strings have,\n",
        "# i.e., a function that can be run on the string.\n",
        "# (Note: Autocompletion also works with data methods)\n",
        "greeting.count(\" \")"
      ]
    },
    {
      "cell_type": "code",
      "execution_count": null,
      "metadata": {
        "id": "g4xqGyNh3N0F"
      },
      "outputs": [],
      "source": [
        "# Replace \"Hello\" with \"Goodbye\". The replace() method.\n",
        "greeting.replace(\"Hello\", \"Goodbye\")"
      ]
    },
    {
      "cell_type": "code",
      "execution_count": null,
      "metadata": {
        "id": "QJKzCjbv3QHZ"
      },
      "outputs": [],
      "source": [
        "# Note that string methods return new values, they don't change the original\n",
        "# string\n",
        "# Print the original \"greeting\" string, notice it didn't change\n",
        "print(greeting)\n",
        "\n",
        "# We need to create a variable for the new string we manipulated\n",
        "new_greeting = greeting.replace(\"Hello\", \"Goodbye\")\n",
        "print(new_greeting)"
      ]
    },
    {
      "cell_type": "code",
      "execution_count": null,
      "metadata": {
        "id": "-CAH97cq3R0b"
      },
      "outputs": [],
      "source": [
        "# String concatenation\n",
        "\"Hello \" + \"world!\""
      ]
    },
    {
      "cell_type": "code",
      "execution_count": null,
      "metadata": {
        "id": "dAke0AvC3bPt"
      },
      "outputs": [],
      "source": [
        "# Formatted strings (another way to combine data with strings)\n",
        "w = \"World\"\n",
        "\n",
        "f\"Hello {w}!\""
      ]
    },
    {
      "cell_type": "markdown",
      "metadata": {
        "id": "6YT5bt7B3drd"
      },
      "source": [
        "**Try it yourself**: Use indexing and concatenation to 1) get the sixth character contained in the string `my_string` and 2) create a new variable with the following text: `The sixth character in this string is [character goes here]`.\n",
        "\n",
        "*Tip:* Characters include spaces."
      ]
    },
    {
      "cell_type": "code",
      "execution_count": null,
      "metadata": {
        "id": "axO7umnC3eqm"
      },
      "outputs": [],
      "source": [
        "# Start with this string\n",
        "my_string = \"The sixth character in this string is\"\n",
        "\n",
        "# Create a new variable, set equal to the string above concatenated with a\n",
        "# space and the sixth character in the string\n",
        "new_string = my_string + \" \" + my_string[5]\n",
        "\n",
        "# Print the new string\n",
        "new_string"
      ]
    },
    {
      "cell_type": "markdown",
      "metadata": {
        "id": "sycm6AN-3j-S"
      },
      "source": [
        "**Bonus Try it Yourself**: Use the `replace()` method to replace the phrase \"pet\" with \"tabby cat\" in the string below."
      ]
    },
    {
      "cell_type": "code",
      "execution_count": null,
      "metadata": {
        "id": "orPkGDq_3k0k"
      },
      "outputs": [],
      "source": [
        "# Original string\n",
        "sentence = \"I adopted a pet.\"\n",
        "\n",
        "# Use replace() to replace \"pet\" with \"tabby cat\"\n",
        "sentence = sentence.replace(\"pet\", \"tabby cat\")\n",
        "\n",
        "# Print the new string\n",
        "sentence"
      ]
    },
    {
      "cell_type": "markdown",
      "metadata": {
        "id": "uw2GdUu91VDk"
      },
      "source": [
        "### 5.2.2&nbsp;List Methods\n",
        "Unlike strings, lists are mutable and can be changed after creation. Some list methods alter the existing list while some return a new value.\n",
        "\n",
        "[Full list of Python list methods](https://www.w3schools.com/python/python_ref_list.asp)"
      ]
    },
    {
      "cell_type": "code",
      "execution_count": null,
      "metadata": {
        "id": "iZx3QXbIyowN"
      },
      "outputs": [],
      "source": [
        "cat_toys = [\"ball\", \"yarn\", \"mouse\"]\n",
        "print(cat_toys)\n",
        "# Add \"catnip\" to the end of the \"cat_toys\" list (append list method)\n",
        "# This method alters the original list and will continue to add to the end of\n",
        "# the list every time you run the cell\n",
        "cat_toys.append(\"catnip\")\n",
        "cat_toys"
      ]
    },
    {
      "cell_type": "code",
      "execution_count": null,
      "metadata": {
        "id": "f2BjaYp2310G"
      },
      "outputs": [],
      "source": [
        "# Count the number of elements with the value \"catnip\" in the list\n",
        "# This method does not alter the original list and returns a value\n",
        "cat_toys.count(\"catnip\")"
      ]
    },
    {
      "cell_type": "code",
      "execution_count": null,
      "metadata": {
        "id": "EwpTc7s733ys"
      },
      "outputs": [],
      "source": [
        "# Remove first occurrence of a value in the list (remove list method)\n",
        "cat_toys.remove(\"catnip\")\n",
        "cat_toys"
      ]
    },
    {
      "cell_type": "code",
      "execution_count": null,
      "metadata": {
        "id": "7ev-as1K35cM"
      },
      "outputs": [],
      "source": [
        "# Splitting a string - output will be a new list (this is a string method)\n",
        "# The string will split based on the string you pass to the split method\n",
        "greeting.split(\" \")"
      ]
    },
    {
      "cell_type": "code",
      "execution_count": null,
      "metadata": {
        "id": "nreKZenP37OC"
      },
      "outputs": [],
      "source": [
        "# Joining a list of strings\n",
        "# There is no join method for a list, we have to use a string method instead.\n",
        "# cat_toys.join()\n",
        "# The list (inside the parenthesis) will join on whatever string you call\n",
        "\"|\".join(cat_toys)"
      ]
    },
    {
      "cell_type": "markdown",
      "metadata": {
        "id": "yvDkzXUS38I6"
      },
      "source": [
        "**Remember:** To replace the list item \"orange\" with \"pear\" we can use indexing!"
      ]
    },
    {
      "cell_type": "code",
      "execution_count": null,
      "metadata": {
        "id": "jkXboRDK3-sM"
      },
      "outputs": [],
      "source": [
        "fruit = [\"banana\", \"orange\", \"apple\"]\n",
        "\n",
        "fruit[1] = \"pear\"\n",
        "\n",
        "fruit"
      ]
    },
    {
      "cell_type": "markdown",
      "metadata": {
        "id": "5_quY1Py4DXI"
      },
      "source": [
        "**Remember exercise!:** Print the value \"g\" from the list `letter_list`. **Hint:** Indexing can be nested. If you are not sure, check types."
      ]
    },
    {
      "cell_type": "code",
      "execution_count": null,
      "metadata": {
        "id": "8U7KEwBi4FiT"
      },
      "outputs": [],
      "source": [
        "letter_list = [\"a\", \"b\", \"c\", [\"d\", \"e\"], [\"f\", \"g\"]]\n",
        "\n",
        "letter_list[4][1]"
      ]
    },
    {
      "cell_type": "markdown",
      "metadata": {
        "id": "OQVmfK3U2BoO"
      },
      "source": [
        "**Try it yourself**:\n",
        "- Create a list of three of your favorite fruits.\n",
        "- Use .append() to add one more fruit.\n",
        "- Use .sort() to arrange them alphabetically.\n",
        "- Print the final list.\n"
      ]
    },
    {
      "cell_type": "code",
      "execution_count": null,
      "metadata": {
        "id": "085rRyvL2LeK"
      },
      "outputs": [],
      "source": [
        "# Create a list of three favorite fruits\n",
        "favorite_fruits = [\"apple\", \"banana\", \"orange\"]\n",
        "\n",
        "# Use .append() to add one more fruit\n",
        "favorite_fruits.append(\"strawberry\")\n",
        "\n",
        "# Use .sort() to arrange them alphabetically\n",
        "favorite_fruits.sort()\n",
        "\n",
        "# Print the final list\n",
        "print(\"My favorite fruits (alphabetically):\", favorite_fruits)"
      ]
    },
    {
      "cell_type": "markdown",
      "metadata": {
        "id": "AfgGMDr21ZWe"
      },
      "source": [
        "### 5.2.3&nbsp;Dictionary Methods\n",
        "\n",
        "Like lists, dictionaries are mutable and can be changed after creation\n",
        "\n",
        "[Full list of Python dictionary methods](https://www.w3schools.com/python/python_ref_dictionary.asp)"
      ]
    },
    {
      "cell_type": "code",
      "execution_count": null,
      "metadata": {
        "id": "NziLiNFj1cam"
      },
      "outputs": [],
      "source": [
        "cat_breeds = {\"Pete\": \"Tabby\",\n",
        "              \"Bob\": \"Calico\",\n",
        "              \"Bill\": \"Rex\"}\n",
        "# Get the dictionary's keys as a list\n",
        "cat_breeds.keys()"
      ]
    },
    {
      "cell_type": "markdown",
      "metadata": {
        "id": "NDFziL-krRA0"
      },
      "source": [
        "### 5.3&nbsp;User Defined Functions\n",
        "\n",
        "At the most basic level, functions are chunks of reusable code. A function can optionally accept data (input), defined as parameters and passed in as arguments, and optionally return data.\n",
        "\n",
        "A function is declared using the generalized syntax:\n",
        "\n",
        "```python\n",
        "def function_name(parameter_1, parameter_2, parameter_3):\n",
        "    indented function code...\n",
        "    return value\n",
        "```\n",
        "\n",
        "To learn more about functions:\n",
        "\n",
        "- [\"Functions\" chapter of *A Byte of Python*](https://python.swaroopch.com/functions.html)\n",
        "- [Python documentation for defining functions](https://docs.python.org/3/tutorial/controlflow.html#defining-functions)"
      ]
    },
    {
      "cell_type": "markdown",
      "metadata": {
        "id": "65XgQhfAyCBK"
      },
      "source": [
        "#### 5.3.1&nbsp; Defining a function"
      ]
    },
    {
      "cell_type": "code",
      "execution_count": null,
      "metadata": {
        "id": "-_uDq9Airk6d"
      },
      "outputs": [],
      "source": [
        "# Define a function named \"print_hello\" that prints out a hello message -- note\n",
        "# the use of indenting!\n",
        "def print_hello():\n",
        "  print(\"Hello, it's nice to see you!\")\n",
        "\n",
        "# Call the print_hello function to run the code contained in the function\n",
        "print_hello()\n",
        "\n",
        "# Print the type of the value returned from calling the print_hello function\n",
        "type(print_hello())"
      ]
    },
    {
      "cell_type": "markdown",
      "metadata": {
        "id": "K3lebsjerv4m"
      },
      "source": [
        "#### 5.3.2&nbsp;Returning data from a function\n",
        "\n",
        "The `print_hello` function above does not return any data, it only calls a `print` function. We cannot do anything with this function beyond printing a message. We can use the special `return` keyword to return a value when a function is called."
      ]
    },
    {
      "cell_type": "code",
      "execution_count": null,
      "metadata": {
        "id": "EbOpk-JMr5QF"
      },
      "outputs": [],
      "source": [
        "# Define a function named \"return_hello\" that returns a hello message\n",
        "def return_hello():\n",
        "    return \"Hello, it's nice to see you!\"\n",
        "\n",
        "# Call the return_hello function\n",
        "return_hello()\n",
        "\n",
        "# Print the type of the return value of the \"return_hello\" function\n",
        "type(return_hello())"
      ]
    },
    {
      "cell_type": "markdown",
      "metadata": {
        "id": "Dgyf7RBdr_Nm"
      },
      "source": [
        "Return values can be stored in variables and used just like other values"
      ]
    },
    {
      "cell_type": "code",
      "execution_count": null,
      "metadata": {
        "id": "Qj7NQz2QsA3c"
      },
      "outputs": [],
      "source": [
        "# Store the return value of \"return_hello\"\n",
        "hello = return_hello()\n",
        "\n",
        "# Print it out\n",
        "hello.upper()"
      ]
    },
    {
      "cell_type": "markdown",
      "metadata": {
        "id": "atejYjkwsCtT"
      },
      "source": [
        "#### 5.3.3&nbsp;Function parameters\n",
        "\n",
        "A function can have defined parameters that serve as variables within the function code. Parameters are defined within the parentheses of a function definition and are separated by commas. When you call a function you provide the values, or arguments, in the same way."
      ]
    },
    {
      "cell_type": "code",
      "execution_count": null,
      "metadata": {
        "id": "4VEynid4sGPq"
      },
      "outputs": [],
      "source": [
        "# Define a function named \"return_hello_personal\" that returns a personalized\n",
        "# hello message for a given person's name and a workshop name\n",
        "def return_hello_personal(name, workshop):\n",
        "    return \"Hello \" + name + \", it's nice to see you at \" + workshop + \" today!\"\n",
        "\n",
        "# Call the function with provided arguments\n",
        "return_hello_personal(\"Bill\", \"Intro to Python\")"
      ]
    },
    {
      "cell_type": "markdown",
      "metadata": {
        "id": "w235PoRssIji"
      },
      "source": [
        "Arguments passed to a function can be variables"
      ]
    },
    {
      "cell_type": "code",
      "execution_count": null,
      "metadata": {
        "id": "NdaMmsaPsH0Q"
      },
      "outputs": [],
      "source": [
        "# Define variables to pass into personalized hello message function\n",
        "me = \"alp\"\n",
        "session = \"Intro to Programming, Control Flows, and Functions\"\n",
        "\n",
        "# Call the personalized hello message function with the variables\n",
        "return_hello_personal(me, session)"
      ]
    },
    {
      "cell_type": "markdown",
      "metadata": {
        "id": "RQv-oAWHsWil"
      },
      "source": [
        "#### 5.3.4&nbsp;Using functions\n",
        "\n",
        "Functions are useful for grouping long or complex code blocks that can to be used more than once."
      ]
    },
    {
      "cell_type": "code",
      "execution_count": null,
      "metadata": {
        "id": "a724UV0vsV-I"
      },
      "outputs": [],
      "source": [
        "# Define a function that replaces periods with exclamation marks in a string\n",
        "def replace_period(string):\n",
        "  new_string = \"\"\n",
        "  for char in string:\n",
        "    if char == \".\":\n",
        "      new_string = new_string + \"!\"\n",
        "    else:\n",
        "      new_string = new_string + char\n",
        "  return new_string\n",
        "\n",
        "# Call the function on a string that contains periods\n",
        "replace_period(\"This. is. a. boring. sentence.\")"
      ]
    },
    {
      "cell_type": "markdown",
      "metadata": {
        "id": "rutp1matsehd"
      },
      "source": [
        "**Try it yourself:** Create a function named `add_nums` that takes two numbers as arguments and returns the results of adding these two numbers\n",
        "\n",
        "For example: `add_nums(2, 3)` should return `5`"
      ]
    },
    {
      "cell_type": "code",
      "execution_count": null,
      "metadata": {
        "id": "F9RsNZPCseEG"
      },
      "outputs": [],
      "source": [
        "# Define a function that returns the results of adding two numbers passed as\n",
        "# arguments\n",
        "def add_nums(num_1, num_2):\n",
        "    return num_1 + num_2\n",
        "\n",
        "# Call the function on two numbers\n",
        "add_nums(5, 3)"
      ]
    },
    {
      "cell_type": "markdown",
      "metadata": {
        "id": "hByEZEeKshfu"
      },
      "source": [
        "**Bonus Try it yourself:** Create a function named `count_a` that takes a list of single letters and returns the count of the occurrence of the letter \"a\"\n",
        "\n",
        "For example: `count_a([\"a\", \"b\", \"a\"])` should return `2`\n"
      ]
    },
    {
      "cell_type": "code",
      "execution_count": null,
      "metadata": {
        "id": "b3v8rucTskzm"
      },
      "outputs": [],
      "source": [
        "# A function that returns the count of \"a\"s in a list of letters\n",
        "def count_a(letters):\n",
        "    count = 0\n",
        "    for letter in letters:\n",
        "        if letter == \"a\":\n",
        "            count = count + 1\n",
        "    return count\n",
        "\n",
        "# A list of letters to test your function\n",
        "test_list = [\"a\", \"b\", \"a\"]\n",
        "\n",
        "# Call the function on the provided list of letters\n",
        "count_a(test_list)"
      ]
    },
    {
      "cell_type": "markdown",
      "metadata": {
        "id": "XL_9_Pr4ycQ8"
      },
      "source": [
        "## 6&nbsp; Final Activity"
      ]
    },
    {
      "cell_type": "markdown",
      "metadata": {
        "id": "ogf_Oh22yhPQ"
      },
      "source": [
        "### Student Grade Analyzer\n",
        "\n",
        "In this final activity, you'll create a comprehensive program that analyzes student grades using all the concepts we've covered: **branching (if/elif/else)**, **loops (for/while)**, and **functions**.\n",
        "\n",
        "#### The Task:\n",
        "Create a program that:\n",
        "1. Takes a list of student grades (numbers between 0-100)\n",
        "2. Categorizes each grade (A, B, C, D, F) using branching\n",
        "3. Calculates statistics using loops\n",
        "4. Uses functions to organize the code\n",
        "\n",
        "#### Requirements:\n",
        "- **Function 1**: `grade_to_letter(score)` - converts a numeric grade to a letter grade\n",
        "- **Function 2**: `analyze_grades(grade_list)` - analyzes a list of grades and returns statistics\n",
        "- **Function 3**: `print_report(student_grades)` - prints a formatted report\n",
        "\n",
        "#### Grade Scale:\n",
        "- A: 90-100\n",
        "- B: 80-89  \n",
        "- C: 70-79\n",
        "- D: 60-69\n",
        "- F: 0-59\n",
        "\n",
        "#### Sample Data:\n",
        "```python\n",
        "student_grades = [85, 92, 78, 96, 88, 73, 91, 67, 82, 95]\n",
        "```\n",
        "\n",
        "#### Expected Output:\n",
        "```\n",
        "Grade Analysis Report:\n",
        "====================\n",
        "Individual Grades:\n",
        "85 -> B\n",
        "92 -> A\n",
        "78 -> C\n",
        "96 -> A\n",
        "88 -> B\n",
        "73 -> C\n",
        "91 -> A\n",
        "67 -> D\n",
        "82 -> B\n",
        "95 -> A\n",
        "\n",
        "Statistics:\n",
        "- Total students: 10\n",
        "- Average grade: 84.7\n",
        "- Highest grade: 96\n",
        "- Lowest grade: 67\n",
        "- Grade distribution: A: 4, B: 3, C: 2, D: 1, F: 0\n",
        "```\n"
      ]
    },
    {
      "cell_type": "code",
      "execution_count": null,
      "metadata": {},
      "outputs": [],
      "source": [
        "# Solution: Student Grade Analyzer\n",
        "\n",
        "def grade_to_letter(score):\n",
        "    \"\"\"Convert a numeric grade to a letter grade using branching.\"\"\"\n",
        "    if score >= 90:\n",
        "        return \"A\"\n",
        "    elif score >= 80:\n",
        "        return \"B\"\n",
        "    elif score >= 70:\n",
        "        return \"C\"\n",
        "    elif score >= 60:\n",
        "        return \"D\"\n",
        "    else:\n",
        "        return \"F\"\n",
        "\n",
        "def analyze_grades(grade_list):\n",
        "    \"\"\"Analyze a list of grades and return statistics using loops.\"\"\"\n",
        "    total = 0\n",
        "    highest = grade_list[0]\n",
        "    lowest = grade_list[0]\n",
        "    grade_counts = {\"A\": 0, \"B\": 0, \"C\": 0, \"D\": 0, \"F\": 0}\n",
        "    \n",
        "    # Use a for loop to calculate statistics\n",
        "    for grade in grade_list:\n",
        "        total += grade\n",
        "        if grade > highest:\n",
        "            highest = grade\n",
        "        if grade < lowest:\n",
        "            lowest = grade\n",
        "        \n",
        "        # Count letter grades using branching\n",
        "        letter = grade_to_letter(grade)\n",
        "        grade_counts[letter] += 1\n",
        "    \n",
        "    average = total / len(grade_list)\n",
        "    \n",
        "    return {\n",
        "        \"total_students\": len(grade_list),\n",
        "        \"average\": average,\n",
        "        \"highest\": highest,\n",
        "        \"lowest\": lowest,\n",
        "        \"grade_counts\": grade_counts\n",
        "    }\n",
        "\n",
        "def print_report(student_grades):\n",
        "    \"\"\"Print a formatted report using loops and functions.\"\"\"\n",
        "    print(\"Grade Analysis Report:\")\n",
        "    print(\"====================\")\n",
        "    print(\"Individual Grades:\")\n",
        "    \n",
        "    # Use a for loop to print individual grades\n",
        "    for grade in student_grades:\n",
        "        letter = grade_to_letter(grade)\n",
        "        print(f\"{grade} -> {letter}\")\n",
        "    \n",
        "    print()\n",
        "    print(\"Statistics:\")\n",
        "    \n",
        "    # Get statistics using our analyze_grades function\n",
        "    stats = analyze_grades(student_grades)\n",
        "    \n",
        "    print(f\"- Total students: {stats['total_students']}\")\n",
        "    print(f\"- Average grade: {stats['average']:.1f}\")\n",
        "    print(f\"- Highest grade: {stats['highest']}\")\n",
        "    print(f\"- Lowest grade: {stats['lowest']}\")\n",
        "    \n",
        "    # Print grade distribution using a for loop\n",
        "    print(\"- Grade distribution:\", end=\" \")\n",
        "    distribution_parts = []\n",
        "    for letter, count in stats['grade_counts'].items():\n",
        "        distribution_parts.append(f\"{letter}: {count}\")\n",
        "    print(\", \".join(distribution_parts))\n",
        "\n",
        "# Test the program with sample data\n",
        "student_grades = [85, 92, 78, 96, 88, 73, 91, 67, 82, 95]\n",
        "print_report(student_grades)\n"
      ]
    },
    {
      "cell_type": "markdown",
      "metadata": {},
      "source": [
        "### Bonus Challenge: Interactive Grade Manager\n",
        "\n",
        "For an extra challenge, try creating an interactive version that:\n",
        "\n",
        "1. **Uses a while loop** to keep asking for student names and grades until the user types \"done\"\n",
        "2. **Uses branching** to validate input (grades must be between 0-100)\n",
        "3. **Uses functions** to organize the interactive input and validation\n",
        "4. **Stores data in a dictionary** with student names as keys and grades as values\n",
        "\n",
        "#### Bonus Requirements:\n",
        "- Function: `get_student_grade()` - prompts for name and grade, validates input\n",
        "- Function: `validate_grade(grade)` - returns True if grade is valid (0-100)\n",
        "- Use a while loop with a sentinel value (\"done\") to collect data\n",
        "- Use branching to handle invalid input with error messages\n",
        "- Modify the existing functions to work with a dictionary of student data\n",
        "\n",
        "#### Sample Interaction:\n",
        "```\n",
        "Enter student name (or 'done' to finish): Alice\n",
        "Enter Alice's grade (0-100): 85\n",
        "Enter student name (or 'done' to finish): Bob\n",
        "Enter Bob's grade (0-100): 92\n",
        "Enter student name (or 'done' to finish): done\n",
        "\n",
        "Grade Analysis Report:\n",
        "====================\n",
        "Individual Grades:\n",
        "Alice: 85 -> B\n",
        "Bob: 92 -> A\n",
        "...\n",
        "```\n"
      ]
    },
    {
      "cell_type": "markdown",
      "metadata": {
        "id": "NyKR7Xlhsqiv"
      },
      "source": [
        "## Further resources and topics\n",
        "\n",
        "#### Unfilled version of this notebook\n",
        "\n",
        "[Control Flow and Functions](https://colab.research.google.com/github/NCSU-Libraries/intro-to-prog-py/blob/main/control-flow-and-functions.ipynb) - a version of this notebook without code filled in for the guided activities and exercises. Use the unfilled version to learn these materials or lead a workshop session.\n",
        "\n",
        "### Resources\n",
        "\n",
        "- [A Byte of Python](https://python.swaroopch.com/) is a great intro book and reference for Python\n",
        "- [Official Python documentation and tutorials](https://docs.python.org/3/)\n",
        "- [Real Python](https://realpython.com/) contains a lot of different tutorials at different levels\n",
        "- [LinkedIn Learning](https://www.lynda.com/Python-training-tutorials/415-0.html) is free with NC State accounts and contains several video series for learning Python\n",
        "- [Dataquest](https://www.dataquest.io/) is a free then paid series of courses with an emphasis on data science\n",
        "\n",
        "### Topics\n",
        "\n",
        "- Formatted outputs\n",
        "- File operations\n",
        "- Other data structures: sets, tuples\n",
        "- Libraries, packages, and pip\n",
        "- Virtual environments\n",
        "- Text editors and local execution environments\n",
        "- The object-oriented paradigm in Python: classes, methods\n",
        "\n",
        "### Installing Python\n",
        "\n",
        "There are quite a few ways to install Python on your own computer, including the [official Python downloads](https://www.python.org/downloads/) and the very popular data-science focused [Anaconda Python distribution](https://www.anaconda.com/products/individual). Depending on your operating system, how you want to write code, and what type of projects you might work on, there are other approaches as well, such as using [pyenv](https://github.com/pyenv/pyenv) and [poetry](https://python-poetry.org/). If you're not sure which approach to take, feel free to get in touch and we'll talk through options and help you get set up.\n",
        "\n",
        "### Popular editors for Python\n",
        "\n",
        "Today we've been writing and running code in Google Colab, which is one particular version of Jupyter Notebooks. Depending on your projects and what you're working on, you may want to write your code in a text editor. While there are many options, if you're just getting started we recommend [Visual Studio Code](https://code.visualstudio.com/) for any operating system but are happy to talk through other editors."
      ]
    },
    {
      "cell_type": "markdown",
      "metadata": {
        "id": "UfobeaQQs53V"
      },
      "source": [
        "## Evaluation survey\n",
        "Please, spend 1 minute answering these questions that can help us a lot on future workshops.\n",
        "\n",
        "[go.ncsu.edu/dvs-eval](go.ncsu.edu/dss-workshop-eval)"
      ]
    },
    {
      "cell_type": "markdown",
      "metadata": {
        "id": "p8iUSDtKub6y"
      },
      "source": [
        "## Additional Content"
      ]
    },
    {
      "cell_type": "markdown",
      "metadata": {
        "id": "vRqXavXnuw1k"
      },
      "source": [
        "## Reading and writing files\n",
        "\n",
        "Working with comma-separated and similar data files will be covered in a later workshop. It's worthwhile, however, to see how to read and write data or text to and from a file. We'll start with writing some text to a file, then explore how to read it."
      ]
    },
    {
      "cell_type": "markdown",
      "metadata": {
        "id": "yoz0SYhuuzaC"
      },
      "source": [
        "### Write to a file\n",
        "\n",
        "Write the text in `sample_text` to a file named `cat_text`"
      ]
    },
    {
      "cell_type": "code",
      "execution_count": null,
      "metadata": {
        "id": "-lAa-9F6uvpY"
      },
      "outputs": [],
      "source": [
        "# Sample text to write to a file\n",
        "sample_text = \"\"\"Cats and kittens everywhere,\n",
        "Hundreds of cats,\n",
        "Thousands of cats,\n",
        "Millions and billions and trillions of cats.\"\"\"\n",
        "\n",
        "# Write the sample text to a file named \"cat_text\" (test different open modes)\n",
        "with open('cat_text.txt', 'w') as f:\n",
        "    f.write(sample_text)\n",
        "\n",
        "# You might sometimes see an older pattern:\n",
        "# f = open('lorem.txt', 'w')\n",
        "# f.write(sample_text)\n",
        "# f.close()"
      ]
    },
    {
      "cell_type": "markdown",
      "metadata": {
        "id": "KSifQ7jlu2UZ"
      },
      "source": [
        "You can check the \"Files\" tab in the column at left now to find the output file. If you don't see it click the \"refresh\" button."
      ]
    },
    {
      "cell_type": "markdown",
      "metadata": {
        "id": "CmNGD_TXu7Nc"
      },
      "source": [
        "### Read from a file"
      ]
    },
    {
      "cell_type": "code",
      "execution_count": null,
      "metadata": {
        "id": "JYVfADMeu12x"
      },
      "outputs": [],
      "source": [
        "# Read the newly created file.\n",
        "with open('cat_text.txt', 'r') as f:\n",
        "    print(f.read())"
      ]
    },
    {
      "cell_type": "markdown",
      "metadata": {
        "id": "RsItj_E0u-CW"
      },
      "source": [
        "You can also read a file line by line."
      ]
    },
    {
      "cell_type": "code",
      "execution_count": null,
      "metadata": {
        "id": "J0npjI0au9qx"
      },
      "outputs": [],
      "source": [
        "# Read the file line by line\n",
        "with open('cat_text.txt', 'r') as f:\n",
        "    for line in f:\n",
        "        line = line.replace('\\n', 'END')\n",
        "        print(line)"
      ]
    },
    {
      "cell_type": "markdown",
      "metadata": {
        "id": "ESsIg1cEvCKX"
      },
      "source": [
        "**Try it yourself:** Write the text below to a file named `text.txt` and then read the file line by line"
      ]
    },
    {
      "cell_type": "code",
      "execution_count": null,
      "metadata": {
        "id": "vF8aYatxvEUy"
      },
      "outputs": [],
      "source": [
        "# Text to write to a file\n",
        "text = \"Line 1\\nLine 2\\nLine 3\\nLine 4\\nLine 5\"\n",
        "\n",
        "# Write the text to a file named \"text.txt\"\n",
        "with open(\"text.txt\", \"w\") as f:\n",
        "    f.write(text)\n",
        "\n",
        "# Read the new file just created line by line\n",
        "with open(\"text.txt\", \"r\") as f:\n",
        "    for line in f:\n",
        "        print(line.strip('\\n'))"
      ]
    },
    {
      "cell_type": "markdown",
      "metadata": {
        "id": "NFu9rP9rvGFa"
      },
      "source": [
        "#### Parsing data read from a file\n",
        "\n",
        "External data we read into our application is often not formatted for our desired manipulations or analyses. We often have to parse the data from a file into a structure that is appropriate for manipulation or analysis.\n",
        "\n",
        "For example, if we want to analyze the text contained in each line from the `cat_text.txt` file we need to isolate each line and word from the text and create a dataset of individual words by line."
      ]
    },
    {
      "cell_type": "code",
      "execution_count": null,
      "metadata": {
        "id": "SQGqnsZsvJtS"
      },
      "outputs": [],
      "source": [
        "# Create an empty list to store the data we will parse\n",
        "data = []\n",
        "\n",
        "# Read in the cat_text file line by line\n",
        "with open('cat_text.txt', 'r') as f:\n",
        "    for line in f:\n",
        "        line = line.strip('\\n')\n",
        "        words = line.split(' ')\n",
        "        data.append(words)\n",
        "\n",
        "# Print out the resulting list\n",
        "data"
      ]
    },
    {
      "cell_type": "markdown",
      "metadata": {
        "id": "86jXnOIbvN5j"
      },
      "source": [
        "### Practive Activity, Part 1: Parse a text file containing data seperated by semicolons\n",
        "\n",
        "We have membership information for 25 members of the *International Cats of Mystery* service stored in the file `international_cats_of_mystery.txt`. The file is formatted as follows:\n",
        "\n",
        "1. Each line is seperated by a newline character (\\n)\n",
        "\n",
        "1. The first line in the file contains the data variable names (e.g., Name, Joined, Address 1,...)\n",
        "\n",
        "1. Each subsequent line contains the data variable values for one member (e.g., Bill, 2015, 12309 Scratch Tree Lane,...)\n",
        "\n",
        "1. Each variable name or value is seperated by semicolons (;)\n",
        "\n",
        "Use a file parsing method to parse the `international_cats_of_mystery.txt` file to create a list that contains lists of values from each line in the file. The first two items in this list should be:\n",
        "\n",
        "```python\n",
        "[\n",
        "  ['Name', 'Joined', 'Address 1', 'Address 2', 'City', 'State', 'Zip Code', 'Subscriptions'],\n",
        "  ['Bill', '2015', '12309 Scratch Tree Lane', 'Apt. 1', 'Beverly Hills', 'CA', '90210', 'Little Known Hiss-tories podcast'],\n",
        "  ...\n",
        "]\n",
        "```"
      ]
    },
    {
      "cell_type": "code",
      "execution_count": null,
      "metadata": {
        "id": "DFaQ1pa8vT7M"
      },
      "outputs": [],
      "source": [
        "# Fetch the text file for the activity\n",
        "!curl https://raw.githubusercontent.com/ncsu-libraries-data-vis/introduction-to-programming-with-python/main/International_cats_of_mystery_US_chapter.txt -o international_cats_of_mystery.txt"
      ]
    },
    {
      "cell_type": "code",
      "execution_count": null,
      "metadata": {
        "id": "vg6SpAntvWuk"
      },
      "outputs": [],
      "source": [
        "# Parse the data in the \"international_cats_of_mystery.txt\" file\n",
        "member_data = []\n",
        "\n",
        "# Read the \"international_cats_of_mystery.txt\" file line by line\n",
        "# and parse the data based on the semicolon seperator\n",
        "with open('international_cats_of_mystery.txt') as f:\n",
        "    for line in f:\n",
        "        line = line.strip('\\n')\n",
        "        member_data.append(line.split(';'))\n",
        "\n",
        "# Print out the list to examine the results\n",
        "member_data[:3]"
      ]
    },
    {
      "cell_type": "markdown",
      "metadata": {
        "id": "jubZMIb6vZyw"
      },
      "source": [
        "### Practice Activity, Part 2: Use a function and a for loop to print a message for each member from the parsed text file\n",
        "\n",
        "Use a loop and a function to create a personalized message for each member of the *International Cats of Mystery* service from the text file parsed in the previous cell. The personalized message should use this template:\n",
        "\n",
        "> *Hello **[member name]**, Thank you for being a valued member for the last **[member's years of membership]** years. We have an exclusive discount on our **[member's top subscription with the service]**.*"
      ]
    },
    {
      "cell_type": "code",
      "execution_count": null,
      "metadata": {
        "id": "2wDFPEd0vdv4"
      },
      "outputs": [],
      "source": [
        "# Create a function that takes in a member's information in the form of the\n",
        "# parsed data from the \"international_cats_of_mystery.txt\" file and returns a\n",
        "# personalized message\n",
        "def personalized_message(member_info):\n",
        "    name = member_info[0]\n",
        "    member_years = 2021 - int(member_info[1])\n",
        "    top_subscription = member_info[7].split(\",\")[0]\n",
        "    return (\"Hello \" + name\n",
        "    + \", Thank you for being a valued member for the last \" + str(member_years)\n",
        "    + \" years. We have an exclusive discount on our \" + top_subscription)"
      ]
    },
    {
      "cell_type": "markdown",
      "metadata": {
        "id": "mGIi5Y__vgHn"
      },
      "source": [
        "**Tip**: Remember that the first item in our membership list contains a list of the data variable names. We do not want to apply the personalized message function to this list of values. When you loop through the member data list you will want to skip over the first item (remember [list slicing](https://www.programiz.com/python-programming/examples/list-slicing))."
      ]
    },
    {
      "cell_type": "code",
      "execution_count": null,
      "metadata": {
        "id": "AumZN0bCvjH9"
      },
      "outputs": [],
      "source": [
        "# Loop through the parsed data from the \"international_cats_of_mystery.txt\" file\n",
        "# and print a personalized message for each member\n",
        "for member in member_data[1:]:\n",
        "    print(personalized_message(member))"
      ]
    }
  ],
  "metadata": {
    "colab": {
      "provenance": []
    },
    "kernelspec": {
      "display_name": "Python 3",
      "name": "python3"
    },
    "language_info": {
      "name": "python"
    }
  },
  "nbformat": 4,
  "nbformat_minor": 0
}
